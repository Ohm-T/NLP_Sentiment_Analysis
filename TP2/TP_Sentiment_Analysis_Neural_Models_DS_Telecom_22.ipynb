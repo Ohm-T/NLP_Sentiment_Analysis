{
  "cells": [
    {
      "cell_type": "markdown",
      "metadata": {
        "id": "JfkpXKBIthcS"
      },
      "source": [
        "# Text classification with Pytorch\n",
        "\n",
        "The goal of this TP is double: an introduction to using Pytorch for treating textual data, and implementing neural classification models that we can apply to IMDB data - and then compare to models implemented in the previous TPs. "
      ]
    },
    {
      "cell_type": "markdown",
      "source": [
        "#### Tom Salembien & Lilian Biscarrat"
      ],
      "metadata": {
        "id": "4XzKe-g5Buk6"
      }
    },
    {
      "cell_type": "code",
      "execution_count": 1,
      "metadata": {
        "id": "FH7c_eMyte-D",
        "colab": {
          "base_uri": "https://localhost:8080/"
        },
        "outputId": "30b2bca7-23c7-4ad0-cf6c-18ddd84fc5a2"
      },
      "outputs": [
        {
          "output_type": "stream",
          "name": "stdout",
          "text": [
            "Looking in indexes: https://pypi.org/simple, https://us-python.pkg.dev/colab-wheels/public/simple/\n",
            "Requirement already satisfied: gensim==4.0.1 in /usr/local/lib/python3.7/dist-packages (4.0.1)\n",
            "Requirement already satisfied: smart-open>=1.8.1 in /usr/local/lib/python3.7/dist-packages (from gensim==4.0.1) (5.2.1)\n",
            "Requirement already satisfied: scipy>=0.18.1 in /usr/local/lib/python3.7/dist-packages (from gensim==4.0.1) (1.7.3)\n",
            "Requirement already satisfied: numpy>=1.11.3 in /usr/local/lib/python3.7/dist-packages (from gensim==4.0.1) (1.21.6)\n"
          ]
        }
      ],
      "source": [
        "!pip install gensim==4.0.1\n",
        "import torch\n",
        "import torch.nn as nn"
      ]
    },
    {
      "cell_type": "markdown",
      "metadata": {
        "id": "TG1Tv5TLtpjP"
      },
      "source": [
        "## 1 - A (very small) introduction to pytorch\n",
        "\n",
        "Pytorch Tensors are very similar to Numpy arrays, with the added benefit of being usable on GPU. For a short tutorial on various methods to create tensors of particular types, see [this link](https://pytorch.org/tutorials/beginner/blitz/tensor_tutorial.html#sphx-glr-beginner-blitz-tensor-tutorial-py).\n",
        "The important things to note are that Tensors can be created empty, from lists, and it is very easy to convert a numpy array into a pytorch tensor, and inversely."
      ]
    },
    {
      "cell_type": "code",
      "execution_count": 2,
      "metadata": {
        "colab": {
          "base_uri": "https://localhost:8080/"
        },
        "id": "Mb3h3-OEtuHz",
        "outputId": "55dc87e3-024b-4df6-9dd0-05e340c89e15"
      },
      "outputs": [
        {
          "output_type": "stream",
          "name": "stdout",
          "text": [
            "tensor([          119230592,                  27,          4294967295,\n",
            "        4908972153413002606, 7214836307739637349])\n",
            "tensor([5])\n"
          ]
        }
      ],
      "source": [
        "a = torch.LongTensor(5)\n",
        "b = torch.LongTensor([5])\n",
        "\n",
        "print(a)\n",
        "print(b)"
      ]
    },
    {
      "cell_type": "code",
      "execution_count": 3,
      "metadata": {
        "colab": {
          "base_uri": "https://localhost:8080/"
        },
        "id": "EohavgcYtv6f",
        "outputId": "6b1a3b86-9e01-4178-f14a-bad6a5f03755"
      },
      "outputs": [
        {
          "output_type": "stream",
          "name": "stdout",
          "text": [
            "tensor([5.])\n"
          ]
        }
      ],
      "source": [
        "a = torch.FloatTensor([2])\n",
        "b = torch.FloatTensor([3])\n",
        "\n",
        "print(a + b)"
      ]
    },
    {
      "cell_type": "markdown",
      "metadata": {
        "id": "AJ7gaHMpt0fV"
      },
      "source": [
        "The main interest in us using Pytorch is the ```autograd``` package. ```torch.Tensor```objects have an attribute ```.requires_grad```; if set as True, it starts to track all operations on it. When you finish your computation, can call ```.backward()``` and all the gradients are computed automatically (and stored in the ```.grad``` attribute).\n",
        "\n",
        "One way to easily cut a tensor from the computational once it is not needed anymore is to use ```.detach()```.\n",
        "More info on automatic differentiation in pytorch on [this link](https://pytorch.org/tutorials/beginner/blitz/autograd_tutorial.html#sphx-glr-beginner-blitz-autograd-tutorial-py).\n"
      ]
    },
    {
      "cell_type": "code",
      "execution_count": 4,
      "metadata": {
        "colab": {
          "base_uri": "https://localhost:8080/"
        },
        "id": "DGHcybvEty-E",
        "outputId": "58e806bd-5140-4352-9432-6450e55fc5e7"
      },
      "outputs": [
        {
          "output_type": "stream",
          "name": "stdout",
          "text": [
            "tensor(2.)\n",
            "tensor(1.)\n",
            "tensor(1.)\n"
          ]
        }
      ],
      "source": [
        "x = torch.tensor(1., requires_grad=True)\n",
        "w = torch.tensor(2., requires_grad=True)\n",
        "b = torch.tensor(3., requires_grad=True)\n",
        "\n",
        "# Build a computational graph.\n",
        "y = w * x + b    # y = 2 * x + 3\n",
        "\n",
        "# Compute gradients.\n",
        "y.backward()\n",
        "\n",
        "# Print out the gradients.\n",
        "print(x.grad)    # x.grad = 2 \n",
        "print(w.grad)    # w.grad = 1 \n",
        "print(b.grad)    # b.grad = 1 "
      ]
    },
    {
      "cell_type": "code",
      "execution_count": 5,
      "metadata": {
        "colab": {
          "base_uri": "https://localhost:8080/"
        },
        "id": "6b2WNPUetzA-",
        "outputId": "83b7f002-b10c-49c4-d7c2-8ec1ae439b72"
      },
      "outputs": [
        {
          "output_type": "stream",
          "name": "stdout",
          "text": [
            "weight\n",
            "Parameter containing:\n",
            "tensor([[ 0.1557, -0.2846, -0.3763],\n",
            "        [-0.2344,  0.2845,  0.2125]], requires_grad=True)\n",
            "bias\n",
            "Parameter containing:\n",
            "tensor([-0.4511, -0.4692], requires_grad=True)\n",
            "Initial loss:  1.5962646007537842\n",
            "dL/dw:  tensor([[ 0.1828, -0.3578, -0.3495],\n",
            "        [ 0.1518,  0.3217, -0.6744]])\n",
            "dL/db:  tensor([-0.6506, -0.8466])\n"
          ]
        }
      ],
      "source": [
        "x = torch.randn(10, 3)\n",
        "y = torch.randn(10, 2)\n",
        "\n",
        "# Build a fully connected layer.\n",
        "linear = nn.Linear(3, 2)\n",
        "for name, p in linear.named_parameters():\n",
        "    print(name)\n",
        "    print(p)\n",
        "\n",
        "# Build loss function - Mean Square Error\n",
        "criterion = nn.MSELoss()\n",
        "\n",
        "# Forward pass.\n",
        "pred = linear(x)\n",
        "\n",
        "# Compute loss.\n",
        "loss = criterion(pred, y)\n",
        "print('Initial loss: ', loss.item())\n",
        "\n",
        "# Backward pass.\n",
        "loss.backward()\n",
        "\n",
        "# Print out the gradients.\n",
        "print ('dL/dw: ', linear.weight.grad) \n",
        "print ('dL/db: ', linear.bias.grad)"
      ]
    },
    {
      "cell_type": "code",
      "execution_count": 6,
      "metadata": {
        "colab": {
          "base_uri": "https://localhost:8080/"
        },
        "id": "aCZynIQFtzD0",
        "outputId": "a314a869-6795-4cad-baaf-bd0ccba1e80e"
      },
      "outputs": [
        {
          "output_type": "stream",
          "name": "stdout",
          "text": [
            "Loss after one update:  1.5763980150222778\n"
          ]
        }
      ],
      "source": [
        "# You can perform gradient descent manually, with an in-place update ...\n",
        "linear.weight.data.sub_(0.01 * linear.weight.grad.data)\n",
        "linear.bias.data.sub_(0.01 * linear.bias.grad.data)\n",
        "\n",
        "# Print out the loss after 1-step gradient descent.\n",
        "pred = linear(x)\n",
        "loss = criterion(pred, y)\n",
        "print('Loss after one update: ', loss.item())"
      ]
    },
    {
      "cell_type": "code",
      "execution_count": 7,
      "metadata": {
        "colab": {
          "base_uri": "https://localhost:8080/"
        },
        "id": "RXaI-9Z9tzGt",
        "outputId": "852c3772-eae0-40c6-f759-e24f48bd5517"
      },
      "outputs": [
        {
          "output_type": "stream",
          "name": "stdout",
          "text": [
            "Loss after two updates:  1.557247519493103\n"
          ]
        }
      ],
      "source": [
        "# Use the optim package to define an Optimizer that will update the weights of the model.\n",
        "optimizer = torch.optim.SGD(linear.parameters(), lr=0.01)\n",
        "\n",
        "# By default, gradients are accumulated in buffers( i.e, not overwritten) whenever .backward()\n",
        "# is called. Before the backward pass, we need to use the optimizer object to zero all of the\n",
        "# gradients.\n",
        "optimizer.zero_grad()\n",
        "loss.backward()\n",
        "\n",
        "# Calling the step function on an Optimizer makes an update to its parameters\n",
        "optimizer.step()\n",
        "\n",
        "# Print out the loss after the second step of gradient descent.\n",
        "pred = linear(x)\n",
        "loss = criterion(pred, y)\n",
        "print('Loss after two updates: ', loss.item())"
      ]
    },
    {
      "cell_type": "markdown",
      "metadata": {
        "id": "xjcyC09ct9Nn"
      },
      "source": [
        "## 2 - Tools for data processing \n",
        "\n",
        "```torch.utils.data.Dataset``` is an abstract class representing a dataset. Your custom dataset should inherit ```Dataset``` and override the following methods:\n",
        "- ```__len__``` so that ```len(dataset)``` returns the size of the dataset.\n",
        "- ```__getitem__``` to support the indexing such that ```dataset[i]``` can be used to get the i-th sample\n",
        "\n",
        "Here is a toy example: "
      ]
    },
    {
      "cell_type": "code",
      "execution_count": 8,
      "metadata": {
        "id": "OAZi4yvpuAyG"
      },
      "outputs": [],
      "source": [
        "toy_corpus = ['I walked down down the boulevard',\n",
        "              'I walked down the avenue',\n",
        "              'I ran down the boulevard',\n",
        "              'I walk down the city',\n",
        "              'I walk down the the avenue']\n",
        "\n",
        "toy_categories = [0, 0, 1, 0, 0]"
      ]
    },
    {
      "cell_type": "code",
      "execution_count": 9,
      "metadata": {
        "id": "I0s6D6VOuCNc"
      },
      "outputs": [],
      "source": [
        "from torch.utils.data import Dataset, DataLoader\n",
        "\n",
        "class CustomDataset(Dataset):\n",
        "    # A pytorch dataset class for holding data for a text classification task.\n",
        "    def __init__(self, data, categories):\n",
        "        # Upon creating the Dataset object, store the data in an attribute\n",
        "        # Split the text data and labels from each other\n",
        "        self.X, self.Y = [], []\n",
        "        for x, y in zip(data, categories):\n",
        "            # We will propably need to preprocess the data - have it done in a separate method\n",
        "            # We do it here because we might need corpus-wide info to do the preprocessing \n",
        "            # For example, cutting all examples to the same length\n",
        "            self.X.append(self.preprocess(x))\n",
        "            self.Y.append(y)\n",
        "                \n",
        "    # Method allowing you to preprocess data                      \n",
        "    def preprocess(self, text):\n",
        "        text_pp = text.lower().strip()\n",
        "        return text_pp\n",
        "    \n",
        "    # Overriding the method __len__ so that len(CustomDatasetName) returns the number of data samples                     \n",
        "    def __len__(self):\n",
        "        return len(self.Y)\n",
        "   \n",
        "    # Overriding the method __getitem__ so that CustomDatasetName[i] returns the i-th sample of the dataset                      \n",
        "    def __getitem__(self, idx):\n",
        "           return self.X[idx], self.Y[idx]"
      ]
    },
    {
      "cell_type": "code",
      "execution_count": 10,
      "metadata": {
        "id": "cmjsfRZPuCQc"
      },
      "outputs": [],
      "source": [
        "toy_dataset = CustomDataset(toy_corpus, toy_categories)"
      ]
    },
    {
      "cell_type": "code",
      "execution_count": 11,
      "metadata": {
        "colab": {
          "base_uri": "https://localhost:8080/"
        },
        "id": "pxyTBFp6uGaL",
        "outputId": "53a952ff-e1f6-442c-c819-1628505253b9"
      },
      "outputs": [
        {
          "output_type": "stream",
          "name": "stdout",
          "text": [
            "5\n",
            "('i walked down down the boulevard', 0)\n",
            "('i walked down the avenue', 0)\n",
            "('i ran down the boulevard', 1)\n",
            "('i walk down the city', 0)\n",
            "('i walk down the the avenue', 0)\n"
          ]
        }
      ],
      "source": [
        "print(len(toy_dataset))\n",
        "for i in range(len(toy_dataset)):\n",
        "    print(toy_dataset[i])"
      ]
    },
    {
      "cell_type": "markdown",
      "metadata": {
        "id": "BdtlHKpJuKwY"
      },
      "source": [
        "```torch.utils.data.DataLoader``` is what we call an iterator, which provides very useful features:\n",
        "- Batching the data\n",
        "- Shuffling the data\n",
        "- Load the data in parallel using multiprocessing workers.\n",
        "and can be created very simply from a ```Dataset```. Continuing on our simple example: "
      ]
    },
    {
      "cell_type": "code",
      "execution_count": 12,
      "metadata": {
        "id": "WAk7_20auGdJ"
      },
      "outputs": [],
      "source": [
        "toy_dataloader = DataLoader(toy_dataset, batch_size = 2, shuffle = True)"
      ]
    },
    {
      "cell_type": "code",
      "execution_count": 13,
      "metadata": {
        "colab": {
          "base_uri": "https://localhost:8080/"
        },
        "id": "oTvn7nmZuGgE",
        "outputId": "d452742d-3a27-4c32-b1c5-46351aa499e8"
      },
      "outputs": [
        {
          "output_type": "stream",
          "name": "stdout",
          "text": [
            "Epoch:0\n",
            "Batch: ('i ran down the boulevard', 'i walk down the city'); labels: tensor([1, 0])\n",
            "Batch: ('i walk down the the avenue', 'i walked down the avenue'); labels: tensor([0, 0])\n",
            "Batch: ('i walked down down the boulevard',); labels: tensor([0])\n",
            "Epoch:1\n",
            "Batch: ('i walked down the avenue', 'i walked down down the boulevard'); labels: tensor([0, 0])\n",
            "Batch: ('i ran down the boulevard', 'i walk down the the avenue'); labels: tensor([1, 0])\n",
            "Batch: ('i walk down the city',); labels: tensor([0])\n",
            "Epoch:2\n",
            "Batch: ('i walk down the the avenue', 'i walk down the city'); labels: tensor([0, 0])\n",
            "Batch: ('i ran down the boulevard', 'i walked down down the boulevard'); labels: tensor([1, 0])\n",
            "Batch: ('i walked down the avenue',); labels: tensor([0])\n"
          ]
        }
      ],
      "source": [
        "for e in range(3):\n",
        "    print(\"Epoch:\" + str(e))\n",
        "    for x, y in toy_dataloader:\n",
        "        print(\"Batch: \" + str(x) + \"; labels: \" + str(y))  "
      ]
    },
    {
      "cell_type": "markdown",
      "metadata": {
        "id": "7lgbEZpbuQLN"
      },
      "source": [
        "## 3 - Data processing of a text dataset\n",
        "\n",
        "Now, we would like to apply what we saw to our case, and **create a specific class** ```TextClassificationDataset``` **inheriting** ```Dataset``` that will:\n",
        "- Create a vocabulary from the data (use what we saw in the previous TP)\n",
        "- Preprocess the data using this vocabulary, adding whatever we need for our pytorch model\n",
        "- Have a ```__getitem__``` method that allows us to use the class with a ```Dataloader``` to easily build batches."
      ]
    },
    {
      "cell_type": "code",
      "execution_count": 14,
      "metadata": {
        "id": "LXMyhHSfuGl4"
      },
      "outputs": [],
      "source": [
        "import os\n",
        "import sys\n",
        "import re\n",
        "import os.path as op\n",
        "from torch.nn import functional as F\n",
        "import numpy as np\n",
        "import random\n",
        "\n",
        "from nltk import word_tokenize\n",
        "from torch.nn.utils.rnn import pad_sequence"
      ]
    },
    {
      "cell_type": "markdown",
      "metadata": {
        "id": "brvWrFAHvfzX"
      },
      "source": [
        "First, we get the filenames and the corresponding categories: "
      ]
    },
    {
      "cell_type": "code",
      "execution_count": 15,
      "metadata": {
        "colab": {
          "base_uri": "https://localhost:8080/"
        },
        "id": "WWrPRszpuGoY",
        "outputId": "b720c00a-7a61-43c9-883a-c36007b02e46"
      },
      "outputs": [
        {
          "output_type": "stream",
          "name": "stderr",
          "text": [
            "Downloading...\n",
            "From: http://ai.stanford.edu/~amaas/data/sentiment/aclImdb_v1.tar.gz\n",
            "To: /content/aclImdb_v1.tar.gz\n",
            "100%|██████████| 84.1M/84.1M [00:05<00:00, 15.3MB/s]\n"
          ]
        }
      ],
      "source": [
        "# For those on google colab: you can download the files directly with this:\n",
        "import gdown\n",
        "gdown.download(\"http://ai.stanford.edu/~amaas/data/sentiment/aclImdb_v1.tar.gz\", output=\"aclImdb_v1.tar.gz\", quiet=False)\n",
        "!tar xzf /content/aclImdb_v1.tar.gz"
      ]
    },
    {
      "cell_type": "code",
      "execution_count": 16,
      "metadata": {
        "id": "zWxaPdQjuGrm",
        "colab": {
          "base_uri": "https://localhost:8080/"
        },
        "outputId": "5301a2f1-2df7-4632-bd72-f95b3386ad57"
      },
      "outputs": [
        {
          "output_type": "stream",
          "name": "stderr",
          "text": [
            "/usr/local/lib/python3.7/dist-packages/ipykernel_launcher.py:25: DeprecationWarning: `np.int` is a deprecated alias for the builtin `int`. To silence this warning, use `int` by itself. Doing this will not modify any behavior and is safe. When replacing `np.int`, you may wish to use e.g. `np.int64` or `np.int32` to specify the precision. If you wish to review your current use, check the release note link for additional information.\n",
            "Deprecated in NumPy 1.20; for more details and guidance: https://numpy.org/devdocs/release/1.20.0-notes.html#deprecations\n"
          ]
        }
      ],
      "source": [
        "from glob import glob\n",
        "# We get the files from the path: ./aclImdb/train/neg for negative reviews, and ./aclImdb/train/pos for positive reviews\n",
        "train_filenames_neg = sorted(glob(op.join('.', 'aclImdb', 'train', 'neg', '*.txt')))\n",
        "train_filenames_pos = sorted(glob(op.join('.', 'aclImdb', 'train', 'pos', '*.txt')))\n",
        "\n",
        "test_filenames_neg = sorted(glob(op.join('.', 'aclImdb', 'test', 'neg', '*.txt')))\n",
        "test_filenames_pos = sorted(glob(op.join('.', 'aclImdb', 'test', 'pos', '*.txt')))\n",
        "\n",
        "# Each files contains a review that consists in one line of text: we put this string in two lists, that we concatenate\n",
        "train_texts_neg = [open(f, encoding=\"utf8\").read() for f in train_filenames_neg]\n",
        "train_texts_pos = [open(f, encoding=\"utf8\").read() for f in train_filenames_pos]\n",
        "train_texts = train_texts_neg + train_texts_pos\n",
        "\n",
        "test_texts_neg = [open(f, encoding=\"utf8\").read() for f in test_filenames_neg]\n",
        "test_texts_pos = [open(f, encoding=\"utf8\").read() for f in test_filenames_pos]\n",
        "test_texts = test_texts_neg + test_texts_pos\n",
        "\n",
        "\n",
        "# The first half of the elements of the list are string of negative reviews, and the second half positive ones\n",
        "# We create the labels, as an array of [1,len(texts)], filled with 1, and change the first half to 0\n",
        "train_labels = np.ones(len(train_texts), dtype=int)\n",
        "train_labels[:len(train_texts_neg)] = 0.\n",
        "\n",
        "\n",
        "test_labels = np.ones(len(test_texts), dtype=np.int)\n",
        "test_labels[:len(test_texts_neg)] = 0."
      ]
    },
    {
      "cell_type": "markdown",
      "metadata": {
        "id": "g2F1biXNv62G"
      },
      "source": [
        "Example of one document:"
      ]
    },
    {
      "cell_type": "code",
      "execution_count": 17,
      "metadata": {
        "colab": {
          "base_uri": "https://localhost:8080/",
          "height": 162
        },
        "id": "2XL0ZBz_uCTX",
        "outputId": "d2841338-2915-4350-ccbc-67f8da8f7214"
      },
      "outputs": [
        {
          "output_type": "execute_result",
          "data": {
            "text/plain": [
              "\"Story of a man who has unnatural feelings for a pig. Starts out with a opening scene that is a terrific example of absurd comedy. A formal orchestra audience is turned into an insane, violent mob by the crazy chantings of it's singers. Unfortunately it stays absurd the WHOLE time with no general narrative eventually making it just too off putting. Even those from the era should be turned off. The cryptic dialogue would make Shakespeare seem easy to a third grader. On a technical level it's better than you might think with some good cinematography by future great Vilmos Zsigmond. Future stars Sally Kirkland and Frederic Forrest can be seen briefly.\""
            ],
            "application/vnd.google.colaboratory.intrinsic+json": {
              "type": "string"
            }
          },
          "metadata": {},
          "execution_count": 17
        }
      ],
      "source": [
        "open(\"./aclImdb/train/neg/0_3.txt\", encoding=\"utf8\").read()"
      ]
    },
    {
      "cell_type": "markdown",
      "metadata": {
        "id": "Mad2WjyxwIp_"
      },
      "source": [
        "We can use a function from sklearn, ```train_test_split```, to separate data into training and validation sets:\n",
        "\n"
      ]
    },
    {
      "cell_type": "code",
      "execution_count": 18,
      "metadata": {
        "id": "5VXYzolvv79h"
      },
      "outputs": [],
      "source": [
        "from sklearn.model_selection import train_test_split"
      ]
    },
    {
      "cell_type": "code",
      "execution_count": 19,
      "metadata": {
        "id": "lOZxlsdHwW8s"
      },
      "outputs": [],
      "source": [
        "train_texts_splt, val_texts, train_labels_splt, val_labels = train_test_split(train_texts, train_labels, test_size=.2)"
      ]
    },
    {
      "cell_type": "markdown",
      "metadata": {
        "id": "fTuq86F_w38k"
      },
      "source": [
        "We can now implement our ```TextClassificationDataset``` class, that we will build from:\n",
        "- A list of path to the IMDB files in the training set: ```path_to_file```\n",
        "- A list of the corresponding categories: ```categories```\n",
        "We will add three optional arguments:\n",
        "- First, a way to input a vocabulary (so that we can re-use the training vocabulary on the validation and training ```TextClassificationDataset```). By default, the value of the argument is ```None```.\n",
        "- In order to work with batches, we will need to have sequences of the same size. That can be done via **padding** but we will still need to limit the size of documents (to avoid having batches of huge sequences that are mostly empty because of one very long documents) to a ```max_length```. Let's put it to 100 by default.\n",
        "- Lastly, a ```min_freq``` that indicates how many times a word must appear to be taken in the vocabulary. "
      ]
    },
    {
      "cell_type": "markdown",
      "metadata": {
        "id": "uEv4BW4ow6Qe"
      },
      "source": [
        "The idea behind **padding** is to transform a list of pytorch tensors (of maybe different length) into a two dimensional tensor - which we can see as a batch. The size of the first dimension is the one of the longest tensor - and other are **padded** with a chosen symbol: here, we choose 0. "
      ]
    },
    {
      "cell_type": "code",
      "execution_count": 20,
      "metadata": {
        "id": "5HvjckX8wW_Y"
      },
      "outputs": [],
      "source": [
        "tensor_1 = torch.LongTensor([1, 4, 5])\n",
        "tensor_2 = torch.LongTensor([2])\n",
        "tensor_3 = torch.LongTensor([6, 7])"
      ]
    },
    {
      "cell_type": "code",
      "execution_count": 21,
      "metadata": {
        "colab": {
          "base_uri": "https://localhost:8080/"
        },
        "id": "1TkfZxx6w9E-",
        "outputId": "815f9dbf-f7cb-45ce-8f5c-a0bcec8bf4a4"
      },
      "outputs": [
        {
          "output_type": "stream",
          "name": "stdout",
          "text": [
            "tensor([[1, 4, 5],\n",
            "        [2, 0, 0],\n",
            "        [6, 7, 0]])\n"
          ]
        }
      ],
      "source": [
        "tensor_padded = pad_sequence([tensor_1, tensor_2, tensor_3], batch_first=True, padding_value = 0)\n",
        "print(tensor_padded)"
      ]
    },
    {
      "cell_type": "markdown",
      "metadata": {
        "id": "wwuFswSJbzPZ"
      },
      "source": [
        "<div class='alert alert-block alert-info'>\n",
        "            Code:</div>"
      ]
    },
    {
      "cell_type": "code",
      "execution_count": 107,
      "metadata": {
        "id": "o1n5H6RUw9H2"
      },
      "outputs": [],
      "source": [
        "class TextClassificationDataset(Dataset):\n",
        "    def __init__(self, data, categories, vocab = None, max_length = 100, min_freq = 5):\n",
        "        self.data = data      \n",
        "        # Set the maximum length we will keep for the sequences\n",
        "        self.max_length = max_length\n",
        "        \n",
        "        # Allow to import a vocabulary (for valid/test datasets, that will use the training vocabulary)\n",
        "        if vocab is not None:\n",
        "            self.word2idx, self.idx2word = vocab\n",
        "        else:\n",
        "            # If no vocabulary imported, build it (and reverse)\n",
        "            self.word2idx, self.idx2word = self.build_vocab(self.data, min_freq)\n",
        "        \n",
        "        # We then need to tokenize the data .. \n",
        "        tokenized_data = [word_tokenize(self.clean(d)) for d in self.data]\n",
        "        # Transform words into lists of indexes ... (use the .get() method to redirect unknown words to the UNK token)\n",
        "        indexed_data =  [[self.word2idx.get(x, self.word2idx['UNK']) for x in sent] for sent in tokenized_data]\n",
        "        # And transform this list of lists into a list of Pytorch LongTensors\n",
        "        tensor_data = [torch.LongTensor(x) for x in indexed_data]\n",
        "        # And the categories into a FloatTensor\n",
        "        tensor_y = torch.FloatTensor(categories)\n",
        "        # To finally cut it when it's above the maximum length\n",
        "        cut_tensor_data = [x[:self.max_length] for x in tensor_data]\n",
        "        \n",
        "        # Now, we need to use the pad_sequence function to have the whole dataset represented as one tensor,\n",
        "        # containing sequences of the same length. We choose the padding_value to be 0, the we want the\n",
        "        # batch dimension to be the first dimension \n",
        "        self.tensor_data = pad_sequence(cut_tensor_data, True)\n",
        "        self.tensor_y = tensor_y\n",
        "        \n",
        "    def __len__(self):\n",
        "        return len(self.data)\n",
        "\n",
        "    def __getitem__(self, idx):\n",
        "        # The iterator just gets one particular example with its category\n",
        "        # The dataloader will take care of the shuffling and batching\n",
        "        if torch.is_tensor(idx):\n",
        "            idx = idx.tolist()\n",
        "        return self.tensor_data[idx], self.tensor_y[idx] \n",
        "    \n",
        "    def clean(self, corpus):\n",
        "        # Lower text\n",
        "        corpus = corpus.lower()\n",
        "        # Remove numbers\n",
        "        corpus = re.sub(r\"[0-9]\", \"\", corpus)\n",
        "        # Remove punctuation\n",
        "        REMOVE_PUNCT = re.compile(\"[.;:!\\'?,\\\"()\\[\\]]\")\n",
        "        corpus = REMOVE_PUNCT.sub(\"\", corpus)\n",
        "        # Remove html\n",
        "        REPLACE_HTML = re.compile(\"(<br\\s*/><br\\s*/>)|(\\-)|(\\/)\")\n",
        "        corpus = REPLACE_HTML.sub(\" \", corpus)\n",
        "        return corpus\n",
        "\n",
        "    def build_vocab(self, corpus, count_threshold):\n",
        "        \"\"\"\n",
        "        Same as in the previous TP: we want to output word_index, a dictionary containing words \n",
        "        and their corresponding indexes as {word : indexes} \n",
        "        But we also want the reverse, which is a dictionary {indexes: word}\n",
        "        Don't forget to add a UNK token that we need when encountering unknown words\n",
        "        We also choose '0' to represent the padding index, so begin the vocabulary index at 1 ! \n",
        "        \"\"\"\n",
        "        # To complete\n",
        "        voc = dict()\n",
        "        corpus = self.clean(' '.join(corpus)).split()\n",
        "        for word in corpus:\n",
        "                if word not in voc:\n",
        "                    voc[word] = 0\n",
        "                voc[word]+=1\n",
        "        word_counter = dict(sorted(voc.items(), key=lambda t: t[1], reverse=True))\n",
        "        \n",
        "        if count_threshold==0:\n",
        "            count_threshold = len(word_counter)\n",
        "        word_counter = {key : val for key, val in word_counter.items() if val > count_threshold}\n",
        "        word_counter['UNK'] = 0\n",
        "        word_index = dict(zip(word_counter.keys(), range(len(word_counter))))\n",
        "        idx_word = dict(zip(range(len(word_counter)), word_counter.keys()))\n",
        "\n",
        "        return word_index, idx_word\n",
        "    \n",
        "    def get_vocab(self):\n",
        "        # A simple way to get the training vocab when building the valid/test \n",
        "        return self.word2idx, self.idx2word"
      ]
    },
    {
      "cell_type": "code",
      "execution_count": 78,
      "metadata": {
        "id": "CM0NsS3DzYmI",
        "colab": {
          "base_uri": "https://localhost:8080/"
        },
        "outputId": "a6f3a672-5887-4238-9463-ef20d3a06f83"
      },
      "outputs": [
        {
          "output_type": "stream",
          "name": "stderr",
          "text": [
            "[nltk_data] Downloading package punkt to /root/nltk_data...\n",
            "[nltk_data]   Package punkt is already up-to-date!\n"
          ]
        },
        {
          "output_type": "execute_result",
          "data": {
            "text/plain": [
              "True"
            ]
          },
          "metadata": {},
          "execution_count": 78
        }
      ],
      "source": [
        "import nltk\n",
        "nltk.download('punkt')"
      ]
    },
    {
      "cell_type": "code",
      "execution_count": 115,
      "metadata": {
        "id": "QwA5Jxm3w9Kw"
      },
      "outputs": [],
      "source": [
        "training_dataset = TextClassificationDataset(train_texts_splt, train_labels_splt, min_freq = 5)\n",
        "training_word2idx, training_idx2word = training_dataset.get_vocab()"
      ]
    },
    {
      "cell_type": "code",
      "execution_count": 116,
      "metadata": {
        "id": "HBD-W4fzw9NR"
      },
      "outputs": [],
      "source": [
        "valid_dataset = TextClassificationDataset(val_texts, val_labels, (training_word2idx, training_idx2word))"
      ]
    },
    {
      "cell_type": "code",
      "execution_count": 117,
      "metadata": {
        "id": "n3ei2xd6JnvS"
      },
      "outputs": [],
      "source": [
        "test_dataset = TextClassificationDataset(test_texts, test_labels, (training_word2idx, training_idx2word))"
      ]
    },
    {
      "cell_type": "code",
      "execution_count": 118,
      "metadata": {
        "id": "FvWlJpbRw9Pt"
      },
      "outputs": [],
      "source": [
        "training_dataloader = DataLoader(training_dataset, batch_size = 200, shuffle=True)\n",
        "valid_dataloader = DataLoader(valid_dataset, batch_size = 25)\n",
        "test_dataloader = DataLoader(test_dataset, batch_size = 25)"
      ]
    },
    {
      "cell_type": "code",
      "execution_count": 119,
      "metadata": {
        "id": "LidGZUp-w9SN",
        "colab": {
          "base_uri": "https://localhost:8080/"
        },
        "outputId": "f5534305-5732-4071-b550-8c10b20d3ed3"
      },
      "outputs": [
        {
          "output_type": "stream",
          "name": "stdout",
          "text": [
            "(tensor([   13,     0,   107,     3,    67,     8,   173,   817,    41,   133,\n",
            "          253,    57,    89,     2,    15,    36,     9,     0,   108,     5,\n",
            "         1474,     0,   111,     5,  8139,     0,  1092,     5,  4065,  4108,\n",
            "            1,    29,   206,     0,   114,   346,     3,     0,  1760,   674,\n",
            "          464,    36,     2,   568,     3,   790,    11,  9606,    35,   605,\n",
            "         1315,     6,   154,   372,     3, 17884,    13,    47,  4187,   178,\n",
            "           46,     0,   294,  1066,   480,     4,   837, 21936,    11,   546,\n",
            "         4108,     1,   464,     4,   360,    22,   169,   855,     9, 24005,\n",
            "          843,  7556,     1,    23,     2,    47,   454,     0,     0,     0,\n",
            "            0,     0,     0,     0,     0,     0,     0,     0,     0,     0]), tensor(0.))\n"
          ]
        }
      ],
      "source": [
        "print(training_dataset.__getitem__(0))"
      ]
    },
    {
      "cell_type": "code",
      "execution_count": 120,
      "metadata": {
        "id": "891JXUwPw9Ux",
        "colab": {
          "base_uri": "https://localhost:8080/"
        },
        "outputId": "b877f9e3-c517-43eb-e0f4-6adced795049"
      },
      "outputs": [
        {
          "output_type": "stream",
          "name": "stdout",
          "text": [
            "torch.Size([200, 100])\n",
            "torch.Size([200])\n"
          ]
        }
      ],
      "source": [
        "example_batch = next(iter(training_dataloader))\n",
        "print(example_batch[0].size())\n",
        "print(example_batch[1].size())"
      ]
    },
    {
      "cell_type": "markdown",
      "metadata": {
        "id": "7n9XkuTs0GKT"
      },
      "source": [
        "### 4 - A simple averaging model\n",
        "\n",
        "Now, we will implement in Pytorch what we did in the previous TP: a simple averaging model. For each model we will implement, we need to create a class which inherits from ```nn.Module``` and redifine the ```__init__``` method as well as the ```forward``` method."
      ]
    },
    {
      "cell_type": "markdown",
      "metadata": {
        "id": "vBgk2yGwbzPg"
      },
      "source": [
        "<div class='alert alert-block alert-info'>\n",
        "            Code:</div>"
      ]
    },
    {
      "cell_type": "code",
      "execution_count": 121,
      "metadata": {
        "id": "wCmyWWQq0LDS"
      },
      "outputs": [],
      "source": [
        "# Models are usually implemented as custom nn.Module subclass\n",
        "# We need to redefine the __init__ method, which creates the object\n",
        "# We also need to redefine the forward method, which transform the input into outputs\n",
        "\n",
        "class AveragingModel(nn.Module):    \n",
        "    def __init__(self, embedding_dim, vocabulary_size):\n",
        "        super().__init__()\n",
        "        # Create an embedding object. Be careful to padding - you need to increase the vocabulary size by one !\n",
        "        # Look into the arguments of the nn.Embedding class\n",
        "        self.embeddings = nn.Embedding(vocabulary_size+1,embedding_dim, padding_idx=0)\n",
        "        # Create a linear layer that will transform the mean of the embeddings into a classification score\n",
        "        self.linear = nn.Linear(embedding_dim,1)\n",
        "        # No need for sigmoid, it will be into the criterion ! \n",
        "        \n",
        "    def forward(self, inputs):\n",
        "        # Remember: the inpts are written as Batch_size * seq_length * embedding_dim\n",
        "        # First, take the mean of the embeddings of the document\n",
        "        emb = self.embeddings(inputs)\n",
        "        x = torch.mean(emb, dim=1)\n",
        "        # Then make it go through the linear layer and remove the extra dimension with the method .squeeze()\n",
        "        o = torch.squeeze(self.linear(x))\n",
        "        return o"
      ]
    },
    {
      "cell_type": "code",
      "execution_count": 122,
      "metadata": {
        "id": "5VH2C2rE0FR_"
      },
      "outputs": [],
      "source": [
        "import torch.optim as optim"
      ]
    },
    {
      "cell_type": "code",
      "execution_count": 123,
      "metadata": {
        "id": "wZp4RDMW0LGX"
      },
      "outputs": [],
      "source": [
        "model = AveragingModel(300, len(training_word2idx))\n",
        "# Create an optimizer\n",
        "opt = optim.Adam(model.parameters(), lr=0.0025, betas=(0.9, 0.999))\n",
        "# The criterion is a binary cross entropy loss based on logits - meaning that the sigmoid is integrated into the criterion\n",
        "criterion = nn.BCEWithLogitsLoss()"
      ]
    },
    {
      "cell_type": "markdown",
      "metadata": {
        "id": "ucQQX08AbzPj"
      },
      "source": [
        "<div class='alert alert-block alert-info'>\n",
        "            Code:</div>"
      ]
    },
    {
      "cell_type": "code",
      "execution_count": 124,
      "metadata": {
        "id": "JM9MFRVQ0LJh"
      },
      "outputs": [],
      "source": [
        "# Implement a training function, which will train the model with the corresponding optimizer and criterion,\n",
        "# with the appropriate dataloader, for one epoch.\n",
        "\n",
        "def train_epoch(model, opt, criterion, dataloader):\n",
        "    model.train()\n",
        "    losses = []\n",
        "    for i, (x, y) in enumerate(dataloader):\n",
        "        opt.zero_grad()\n",
        "        # (1) Forward\n",
        "        pred = model(x)\n",
        "        # (2) Compute the loss \n",
        "        loss = criterion(pred, y)\n",
        "        # (3) Compute gradients with the criterion\n",
        "        loss.backward()\n",
        "        # (4) Update weights with the optimizer\n",
        "        opt.step()       \n",
        "        losses.append(loss.item())\n",
        "        # Count the number of correct predictions in the batch - here, you'll need to use the sigmoid\n",
        "        pred = (torch.sigmoid(pred)>=0.5).float()\n",
        "        num_corrects = (pred==y).sum()\n",
        "        acc = 100.0 * num_corrects/len(y)\n",
        "        \n",
        "        if (i%20 == 0):\n",
        "            print(\"Batch \" + str(i) + \" : training loss = \" + str(loss.item()) + \"; training acc = \" + str(acc.item()))\n",
        "    return losses"
      ]
    },
    {
      "cell_type": "markdown",
      "metadata": {
        "id": "x-zILiZnbzPk"
      },
      "source": [
        "<div class='alert alert-block alert-info'>\n",
        "            Code:</div>"
      ]
    },
    {
      "cell_type": "code",
      "execution_count": 125,
      "metadata": {
        "id": "vz82AFmL0LMx"
      },
      "outputs": [],
      "source": [
        "# Same for the evaluation ! We don't need the optimizer here. \n",
        "def eval_model(model, criterion, evalloader):\n",
        "    model.eval()\n",
        "    total_epoch_loss = 0\n",
        "    total_epoch_acc = 0\n",
        "    with torch.no_grad():\n",
        "        for i, (x, y) in enumerate(evalloader):\n",
        "            pred = model(x)\n",
        "            loss = criterion(pred,y)\n",
        "            pred = (nn.Sigmoid()(pred)>=0.5).float()*1\n",
        "            num_corrects = (pred==y).sum()\n",
        "            acc = 100.0 * num_corrects/len(y)\n",
        "            total_epoch_loss += loss.item()\n",
        "            total_epoch_acc += acc.item()\n",
        "\n",
        "    return total_epoch_loss/(i+1), total_epoch_acc/(i+1)"
      ]
    },
    {
      "cell_type": "code",
      "execution_count": 126,
      "metadata": {
        "id": "J8grPth70ZyO"
      },
      "outputs": [],
      "source": [
        "# A function which will help you execute experiments rapidly - with a early_stopping option when necessary. \n",
        "def experiment(model, opt, criterion, num_epochs = 5, early_stopping = True):\n",
        "    train_losses = []\n",
        "    if early_stopping: \n",
        "        best_valid_loss = 10. \n",
        "    print(\"Beginning training...\")\n",
        "    for e in range(num_epochs):\n",
        "        print(\"Epoch \" + str(e+1) + \":\")\n",
        "        train_losses += train_epoch(model, opt, criterion, training_dataloader)\n",
        "        valid_loss, valid_acc = eval_model(model, criterion, valid_dataloader)\n",
        "        print(\"Epoch \" + str(e+1) + \" : Validation loss = \" + str(valid_loss) + \"; Validation acc = \" + str(valid_acc))\n",
        "        if early_stopping:\n",
        "            if valid_loss < best_valid_loss:\n",
        "                best_valid_loss = valid_loss\n",
        "            else:\n",
        "                print(\"Early stopping.\")\n",
        "                break  \n",
        "    test_loss, test_acc = eval_model(model, criterion, test_dataloader)\n",
        "    print(\"Epoch \" + str(e+1) + \" : Test loss = \" + str(test_loss) + \"; Test acc = \" + str(test_acc))\n",
        "    return train_losses"
      ]
    },
    {
      "cell_type": "code",
      "execution_count": 127,
      "metadata": {
        "id": "UZvgnfo10Z1i",
        "colab": {
          "base_uri": "https://localhost:8080/"
        },
        "outputId": "89d54c68-fb7f-4a45-b32e-a4a511dccf28"
      },
      "outputs": [
        {
          "output_type": "stream",
          "name": "stdout",
          "text": [
            "Beginning training...\n",
            "Epoch 1:\n",
            "Batch 0 : training loss = 0.6979813575744629; training acc = 47.5\n",
            "Batch 20 : training loss = 0.6676254272460938; training acc = 64.5\n",
            "Batch 40 : training loss = 0.6389480829238892; training acc = 68.0\n",
            "Batch 60 : training loss = 0.6129500865936279; training acc = 70.5\n",
            "Batch 80 : training loss = 0.5569121241569519; training acc = 77.5\n",
            "Epoch 1 : Validation loss = 0.5456750822067261; Validation acc = 74.48\n",
            "Epoch 2:\n",
            "Batch 0 : training loss = 0.5288518667221069; training acc = 77.5\n",
            "Batch 20 : training loss = 0.4543701410293579; training acc = 82.5\n",
            "Batch 40 : training loss = 0.4319796860218048; training acc = 84.5\n",
            "Batch 60 : training loss = 0.4197255074977875; training acc = 84.0\n",
            "Batch 80 : training loss = 0.33831149339675903; training acc = 89.5\n",
            "Epoch 2 : Validation loss = 0.4218478917330504; Validation acc = 81.16\n",
            "Epoch 3:\n",
            "Batch 0 : training loss = 0.29656532406806946; training acc = 87.5\n",
            "Batch 20 : training loss = 0.3142245411872864; training acc = 88.5\n",
            "Batch 40 : training loss = 0.3209008276462555; training acc = 87.5\n",
            "Batch 60 : training loss = 0.31437960267066956; training acc = 89.0\n",
            "Batch 80 : training loss = 0.36592042446136475; training acc = 84.5\n",
            "Epoch 3 : Validation loss = 0.37852692380547526; Validation acc = 83.36\n",
            "Epoch 4:\n",
            "Batch 0 : training loss = 0.29553744196891785; training acc = 88.5\n",
            "Batch 20 : training loss = 0.25777196884155273; training acc = 91.5\n",
            "Batch 40 : training loss = 0.2345161885023117; training acc = 90.5\n",
            "Batch 60 : training loss = 0.2519955337047577; training acc = 89.5\n",
            "Batch 80 : training loss = 0.24930433928966522; training acc = 90.0\n",
            "Epoch 4 : Validation loss = 0.36599292457103727; Validation acc = 83.88\n",
            "Epoch 5:\n",
            "Batch 0 : training loss = 0.20127904415130615; training acc = 95.0\n",
            "Batch 20 : training loss = 0.23161791265010834; training acc = 93.5\n",
            "Batch 40 : training loss = 0.26858988404273987; training acc = 91.5\n",
            "Batch 60 : training loss = 0.1941917985677719; training acc = 93.5\n",
            "Batch 80 : training loss = 0.20720112323760986; training acc = 92.0\n",
            "Epoch 5 : Validation loss = 0.36562899842858315; Validation acc = 84.1\n",
            "Epoch 5 : Test loss = 0.4109430378340185; Test acc = 81.372\n"
          ]
        }
      ],
      "source": [
        "train_losses = experiment(model, opt, criterion)"
      ]
    },
    {
      "cell_type": "code",
      "execution_count": 101,
      "metadata": {
        "id": "m-CIwDga0Z7q",
        "colab": {
          "base_uri": "https://localhost:8080/",
          "height": 283
        },
        "outputId": "b0958a7e-1bee-48ff-d6b9-c4fe56370bad"
      },
      "outputs": [
        {
          "output_type": "execute_result",
          "data": {
            "text/plain": [
              "[<matplotlib.lines.Line2D at 0x7f20aca917d0>]"
            ]
          },
          "metadata": {},
          "execution_count": 101
        },
        {
          "output_type": "display_data",
          "data": {
            "text/plain": [
              "<Figure size 432x288 with 1 Axes>"
            ],
            "image/png": "[encoded data removed]"
          },
          "metadata": {
            "needs_background": "light"
          }
        }
      ],
      "source": [
        "import matplotlib.pyplot as plt\n",
        "plt.plot(train_losses)"
      ]
    },
    {
      "cell_type": "markdown",
      "metadata": {
        "id": "kp8d-0N7JPlR"
      },
      "source": [
        "### With Glove embeddings: \n",
        "\n",
        "Now, we would like to integrate pre-trained word embeddings into our model ! Let's use again the functions that we used in the previous lab:"
      ]
    },
    {
      "cell_type": "code",
      "execution_count": 38,
      "metadata": {
        "id": "RUa7xjDv0Z-0",
        "colab": {
          "base_uri": "https://localhost:8080/"
        },
        "outputId": "59579ed9-e7b6-40bb-cde8-5380d7a8694f"
      },
      "outputs": [
        {
          "output_type": "stream",
          "name": "stderr",
          "text": [
            "/usr/local/lib/python3.7/dist-packages/gensim/similarities/__init__.py:15: UserWarning: The gensim.similarities.levenshtein submodule is disabled, because the optional Levenshtein package <https://pypi.org/project/python-Levenshtein/> is unavailable. Install Levenhstein (e.g. `pip install python-Levenshtein`) to suppress this warning.\n",
            "  warnings.warn(msg)\n"
          ]
        }
      ],
      "source": [
        "import gensim.downloader as api\n",
        "loaded_glove_model = api.load(\"glove-wiki-gigaword-300\")\n",
        "loaded_glove_embeddings = loaded_glove_model.vectors"
      ]
    },
    {
      "cell_type": "code",
      "execution_count": 39,
      "metadata": {
        "id": "unwB2-4r0aBg"
      },
      "outputs": [],
      "source": [
        "def get_glove_adapted_embeddings(glove_model, input_voc):\n",
        "    keys = {i: glove_model.key_to_index.get(w, None) for w, i in input_voc.items()}\n",
        "    index_dict = {i: key for i, key in keys.items() if key is not None}\n",
        "    embeddings = np.zeros((len(input_voc)+1,glove_model.vectors.shape[1]))\n",
        "    for i, ind in index_dict.items():\n",
        "        embeddings[i] = glove_model.vectors[ind]\n",
        "    return embeddings\n",
        "\n",
        "GloveEmbeddings = get_glove_adapted_embeddings(loaded_glove_model, training_word2idx)"
      ]
    },
    {
      "cell_type": "code",
      "source": [
        "weights = torch.FloatTensor(GloveEmbeddings)"
      ],
      "metadata": {
        "id": "5mgTDvArH076"
      },
      "execution_count": 40,
      "outputs": []
    },
    {
      "cell_type": "code",
      "execution_count": 41,
      "metadata": {
        "id": "dhoS6NH20aEU",
        "colab": {
          "base_uri": "https://localhost:8080/"
        },
        "outputId": "662f132b-03d7-4791-bede-6c64cc8bec25"
      },
      "outputs": [
        {
          "output_type": "stream",
          "name": "stdout",
          "text": [
            "(24040, 300)\n",
            "[ 4.65600006e-02  2.13180006e-01 -7.43639981e-03 -4.58539993e-01\n",
            " -3.56389992e-02  2.36430004e-01 -2.88360000e-01  2.15210006e-01\n",
            " -1.34859994e-01 -1.64129996e+00 -2.60910004e-01  3.24340016e-02\n",
            "  5.66210002e-02 -4.32960019e-02 -2.16719992e-02  2.24759996e-01\n",
            " -7.51290023e-02 -6.70180023e-02 -1.42470002e-01  3.88250016e-02\n",
            " -1.89510003e-01  2.99769998e-01  3.93049985e-01  1.78870007e-01\n",
            " -1.73429996e-01 -2.11779997e-01  2.36169994e-01 -6.36809990e-02\n",
            " -4.23180014e-01 -1.16609998e-01  9.37540010e-02  1.72959998e-01\n",
            " -3.30729991e-01  4.91120011e-01 -6.89949989e-01 -9.24620032e-02\n",
            "  2.47419998e-01 -1.79910004e-01  9.79079977e-02  8.31179991e-02\n",
            "  1.52989998e-01 -2.72760004e-01 -3.89339998e-02  5.44529974e-01\n",
            "  5.37370026e-01  2.91049987e-01 -7.35139987e-03  4.78800014e-02\n",
            " -4.07599986e-01 -2.67590005e-02  1.79189995e-01  1.09770000e-02\n",
            " -1.09630004e-01 -2.63949990e-01  7.39900023e-02  2.62360007e-01\n",
            " -1.50800005e-01  3.46230000e-01  2.57580012e-01  1.19709998e-01\n",
            " -3.71350013e-02 -7.15930015e-02  4.38980013e-01 -4.07640003e-02\n",
            "  1.64250005e-02 -4.46399987e-01  1.71969995e-01  4.62459996e-02\n",
            "  5.86390011e-02  4.14990000e-02  5.39479971e-01  5.24950027e-01\n",
            "  1.13609999e-01 -4.83149998e-02 -3.63849998e-01  1.87040001e-01\n",
            "  9.27610025e-02 -1.11290000e-01 -4.20850009e-01  1.39919996e-01\n",
            " -3.93379986e-01 -6.79450035e-02  1.21880002e-01  1.67070001e-01\n",
            "  7.51689970e-02 -1.55290002e-02 -1.94989994e-01  1.96380004e-01\n",
            "  5.31940013e-02  2.51700014e-01 -3.48450005e-01 -1.06380001e-01\n",
            " -3.46920013e-01 -1.90239996e-01 -2.00399995e-01  1.21540003e-01\n",
            " -2.92079985e-01  2.33529992e-02 -1.16180003e-01 -3.57679993e-01\n",
            "  6.23040013e-02  3.58839989e-01  2.90600006e-02  7.30049983e-03\n",
            "  4.94820019e-03 -1.50480002e-01 -1.23130001e-01  1.93370000e-01\n",
            "  1.21730000e-01  4.45030004e-01  2.51470000e-01  1.07809998e-01\n",
            " -1.77159995e-01  3.86909992e-02  8.15299973e-02  1.46669999e-01\n",
            "  6.36660010e-02  6.13319986e-02 -7.55689964e-02 -3.77240002e-01\n",
            "  1.58500001e-02 -3.03420007e-01  2.83740014e-01 -4.20130007e-02\n",
            " -4.07150015e-02 -1.52689993e-01  7.49799982e-02  1.55770004e-01\n",
            "  1.04330003e-01  3.13930005e-01  1.93090007e-01  1.94289997e-01\n",
            "  1.51850000e-01 -1.01920001e-01 -1.87849998e-02  2.07910001e-01\n",
            "  1.33660004e-01  1.90380007e-01 -2.55580008e-01  3.03999990e-01\n",
            " -1.89599991e-02  2.01470003e-01 -4.21099991e-01 -7.51559995e-03\n",
            " -2.79769987e-01 -1.93140000e-01  4.62040007e-02  1.99709997e-01\n",
            " -3.02069992e-01  2.57349998e-01  6.81070030e-01 -1.94089994e-01\n",
            "  2.39840001e-01  2.24930003e-01  6.52239978e-01 -1.35609999e-01\n",
            " -1.73830003e-01 -4.82090004e-02 -1.18600003e-01  2.15879991e-03\n",
            " -1.95250008e-02  1.19479999e-01  1.93460003e-01 -4.08199996e-01\n",
            " -8.29659998e-02  1.66260004e-01 -1.06009997e-01  3.58610004e-01\n",
            "  1.69220001e-01  7.25900009e-02 -2.48030007e-01 -1.00240000e-01\n",
            " -5.24909973e-01 -1.77450001e-01 -3.66470009e-01  2.61799991e-01\n",
            " -1.20770000e-02  8.31900015e-02 -2.15279996e-01  4.10450011e-01\n",
            "  2.91359991e-01  3.08690012e-01  7.88640007e-02  3.22070003e-01\n",
            " -4.10230011e-02 -1.09700002e-01 -9.20410007e-02 -1.23389997e-01\n",
            " -1.64159998e-01  3.53819996e-01 -8.27739984e-02  3.31710011e-01\n",
            " -2.47380003e-01 -4.89280000e-02  1.57460004e-01  1.89879999e-01\n",
            " -2.66420003e-02  6.33149967e-02 -1.06729995e-02  3.40889990e-01\n",
            "  1.41059995e+00  1.34169996e-01  2.81910002e-01 -2.59400010e-01\n",
            "  5.52669987e-02 -5.24250008e-02 -2.57889986e-01  1.91270001e-02\n",
            " -2.20839996e-02  3.21130008e-01  6.88180029e-02  5.12070000e-01\n",
            "  1.64780006e-01 -2.01940000e-01  2.92320013e-01  9.85750034e-02\n",
            "  1.31449997e-02 -1.06519997e-01  1.35100007e-01 -4.53319997e-02\n",
            "  2.06970006e-01 -4.84250009e-01 -4.47059989e-01  3.33050010e-03\n",
            "  2.92639993e-03 -1.09750003e-01 -2.33250007e-01  2.24419996e-01\n",
            " -1.05030000e-01  1.23389997e-01  1.09779999e-01  4.89940010e-02\n",
            " -2.51569986e-01  4.03189987e-01  3.53179991e-01  1.86509997e-01\n",
            " -2.36220006e-02 -1.27340004e-01  1.14749998e-01  2.73589998e-01\n",
            " -2.18659997e-01  1.57939997e-02  8.17539990e-01 -2.37920005e-02\n",
            " -8.54690015e-01 -1.62029997e-01  1.80759996e-01  2.80140005e-02\n",
            " -1.43399999e-01  1.31389999e-03 -9.17349979e-02 -8.97039995e-02\n",
            "  1.11050002e-01 -1.67030007e-01  6.83770031e-02 -8.73880014e-02\n",
            " -3.97889987e-02  1.41840000e-02  2.11870000e-01  2.85789996e-01\n",
            " -2.87970006e-01 -5.89959994e-02 -3.24359983e-02 -4.70090006e-03\n",
            " -1.70519993e-01 -3.47409993e-02 -1.14890002e-01  7.50930011e-02\n",
            "  9.95260030e-02  4.81830016e-02 -7.37750009e-02 -4.18170005e-01\n",
            "  4.12680022e-03  4.44139987e-01 -1.60620004e-01  1.42940000e-01\n",
            " -2.26279998e+00 -2.73470003e-02  8.13109994e-01  7.74169981e-01\n",
            " -2.56390005e-01 -1.15759999e-01 -1.19819999e-01 -2.13630006e-01\n",
            "  2.84289997e-02  2.72610009e-01  3.10260002e-02  9.67819989e-02\n",
            "  6.77690003e-03  1.40819997e-01 -1.30639998e-02 -2.96860009e-01\n",
            " -7.99129978e-02  1.94999993e-01  3.15489992e-02  2.85059988e-01\n",
            " -8.74610022e-02  9.06109996e-03 -2.09889993e-01  5.39130010e-02]\n"
          ]
        }
      ],
      "source": [
        "print(GloveEmbeddings.shape)\n",
        "# We should check that the \"padding\" vector is at zero\n",
        "print(GloveEmbeddings[0])"
      ]
    },
    {
      "cell_type": "markdown",
      "metadata": {
        "id": "SpkmUwA4LjT0"
      },
      "source": [
        "Here, implement a ```PretrainedAveragingModel``` very similar to the previous model, using the ```nn.Embedding``` method ```from_pretrained()``` to initialize the embeddings from a numpy array. Use the ```requires_grad_``` method to specify if the model must fine-tune the embeddings or not ! "
      ]
    },
    {
      "cell_type": "markdown",
      "metadata": {
        "id": "qE4ke06FbzPq"
      },
      "source": [
        "<div class='alert alert-block alert-info'>\n",
        "            Code:</div>"
      ]
    },
    {
      "cell_type": "code",
      "execution_count": 44,
      "metadata": {
        "id": "aVh4fz39Lg5c"
      },
      "outputs": [],
      "source": [
        "class PretrainedAveragingModel(nn.Module):\n",
        "    def __init__(self, weight, fine_tune=False):\n",
        "      super().__init__()\n",
        "      # Create an embedding object. Be careful to padding - you need to increase the vocabulary size by one !\n",
        "      # Look into the arguments of the nn.Embedding class\n",
        "      self.embedding = nn.Embedding.from_pretrained(weight, padding_idx=0).requires_grad_(fine_tune) \n",
        "      # Create a linear layer that will transform the mean of the embeddings into a classification score\n",
        "      self.linear = nn.Linear(self.embedding.embedding_dim, 1)\n",
        "      # No need for sigmoid, it will be into the criterion ! \n",
        "      \n",
        "    def forward(self, inputs):\n",
        "      # Remember: the inpts are written as Batch_size * seq_length * embedding_dim\n",
        "      # First, take the mean of the embeddings of the document\n",
        "      emb = self.embedding(inputs)\n",
        "      x = torch.mean(emb, dim=1)\n",
        "      # Then make it go through the linear layer and remove the extra dimension with the method .squeeze()\n",
        "      o = torch.squeeze(self.linear(x))\n",
        "      return o\n",
        "\n"
      ]
    },
    {
      "cell_type": "code",
      "source": [
        "model = PretrainedAveragingModel(torch.FloatTensor(GloveEmbeddings))\n",
        "# Create an optimizer\n",
        "opt = optim.Adam(model.parameters(), lr=0.0025, betas=(0.9, 0.999))\n",
        "# The criterion is a binary cross entropy loss based on logits - meaning that the sigmoid is integrated into the criterion\n",
        "criterion = nn.BCEWithLogitsLoss()\n",
        "train_losses = experiment(model, opt, criterion)\n",
        "\n",
        "plt.plot(train_losses)"
      ],
      "metadata": {
        "colab": {
          "base_uri": "https://localhost:8080/",
          "height": 953
        },
        "id": "Ypxvfrvsuhba",
        "outputId": "e46db424-2186-4e70-dbea-8d6b79b45e96"
      },
      "execution_count": 45,
      "outputs": [
        {
          "output_type": "stream",
          "name": "stdout",
          "text": [
            "Beginning training...\n",
            "Epoch 1:\n",
            "Batch 0 : training loss = 0.6945489645004272; training acc = 47.5\n",
            "Batch 20 : training loss = 0.6753852963447571; training acc = 62.0\n",
            "Batch 40 : training loss = 0.675645112991333; training acc = 58.5\n",
            "Batch 60 : training loss = 0.6568018198013306; training acc = 66.5\n",
            "Batch 80 : training loss = 0.636055588722229; training acc = 72.5\n",
            "Epoch 1 : Validation loss = 0.6416148695349694; Validation acc = 66.9\n",
            "Epoch 2:\n",
            "Batch 0 : training loss = 0.6266465187072754; training acc = 71.0\n",
            "Batch 20 : training loss = 0.6260228753089905; training acc = 71.5\n",
            "Batch 40 : training loss = 0.6151863932609558; training acc = 71.5\n",
            "Batch 60 : training loss = 0.6362295746803284; training acc = 68.0\n",
            "Batch 80 : training loss = 0.6273787021636963; training acc = 63.0\n",
            "Epoch 2 : Validation loss = 0.6151577246189117; Validation acc = 68.62\n",
            "Epoch 3:\n",
            "Batch 0 : training loss = 0.5959733724594116; training acc = 74.5\n",
            "Batch 20 : training loss = 0.628242015838623; training acc = 67.0\n",
            "Batch 40 : training loss = 0.5982662439346313; training acc = 72.0\n",
            "Batch 60 : training loss = 0.5822015404701233; training acc = 74.0\n",
            "Batch 80 : training loss = 0.5760418176651001; training acc = 75.5\n",
            "Epoch 3 : Validation loss = 0.5958750480413437; Validation acc = 70.16\n",
            "Epoch 4:\n",
            "Batch 0 : training loss = 0.587730348110199; training acc = 72.0\n",
            "Batch 20 : training loss = 0.5945287346839905; training acc = 70.0\n",
            "Batch 40 : training loss = 0.5772179961204529; training acc = 72.0\n",
            "Batch 60 : training loss = 0.55330890417099; training acc = 76.0\n",
            "Batch 80 : training loss = 0.6078231334686279; training acc = 68.5\n",
            "Epoch 4 : Validation loss = 0.5789760357141495; Validation acc = 72.04\n",
            "Epoch 5:\n",
            "Batch 0 : training loss = 0.5861573815345764; training acc = 67.5\n",
            "Batch 20 : training loss = 0.5503346920013428; training acc = 73.0\n",
            "Batch 40 : training loss = 0.5607947111129761; training acc = 74.0\n",
            "Batch 60 : training loss = 0.5525344014167786; training acc = 74.5\n",
            "Batch 80 : training loss = 0.543314516544342; training acc = 74.0\n",
            "Epoch 5 : Validation loss = 0.5666675226390362; Validation acc = 72.62\n",
            "Epoch 5 : Test loss = 0.5701956479847431; Test acc = 72.252\n"
          ]
        },
        {
          "output_type": "execute_result",
          "data": {
            "text/plain": [
              "[<matplotlib.lines.Line2D at 0x7f20b46375d0>]"
            ]
          },
          "metadata": {},
          "execution_count": 45
        },
        {
          "output_type": "display_data",
          "data": {
            "text/plain": [
              "<Figure size 432x288 with 1 Axes>"
            ],
            "image/png": "[encoded data removed]"
          },
          "metadata": {
            "needs_background": "light"
          }
        }
      ]
    },
    {
      "cell_type": "code",
      "source": [
        "model = PretrainedAveragingModel(torch.FloatTensor(GloveEmbeddings), fine_tune = True)\n",
        "# Create an optimizer\n",
        "opt = optim.Adam(model.parameters(), lr=0.0025, betas=(0.9, 0.999))\n",
        "# The criterion is a binary cross entropy loss based on logits - meaning that the sigmoid is integrated into the criterion\n",
        "criterion = nn.BCEWithLogitsLoss()\n",
        "\n",
        "train_losses = experiment(model, opt, criterion)\n",
        "\n",
        "plt.plot(train_losses)"
      ],
      "metadata": {
        "id": "GRGePAL2lZFV",
        "colab": {
          "base_uri": "https://localhost:8080/",
          "height": 971
        },
        "outputId": "d3642dcd-6425-4931-e8fc-970f636bbb59"
      },
      "execution_count": 46,
      "outputs": [
        {
          "output_type": "stream",
          "name": "stdout",
          "text": [
            "Beginning training...\n",
            "Epoch 1:\n",
            "Batch 0 : training loss = 0.6983088850975037; training acc = 50.5\n",
            "Batch 20 : training loss = 0.677682638168335; training acc = 59.0\n",
            "Batch 40 : training loss = 0.6390252709388733; training acc = 73.0\n",
            "Batch 60 : training loss = 0.5825512409210205; training acc = 76.0\n",
            "Batch 80 : training loss = 0.534740686416626; training acc = 82.0\n",
            "Epoch 1 : Validation loss = 0.5216215221583843; Validation acc = 76.64\n",
            "Epoch 2:\n",
            "Batch 0 : training loss = 0.4980985224246979; training acc = 78.5\n",
            "Batch 20 : training loss = 0.4625823497772217; training acc = 83.5\n",
            "Batch 40 : training loss = 0.405974417924881; training acc = 85.0\n",
            "Batch 60 : training loss = 0.4097089469432831; training acc = 84.5\n",
            "Batch 80 : training loss = 0.38762789964675903; training acc = 84.5\n",
            "Epoch 2 : Validation loss = 0.4029174806177616; Validation acc = 82.52\n",
            "Epoch 3:\n",
            "Batch 0 : training loss = 0.3072006106376648; training acc = 91.5\n",
            "Batch 20 : training loss = 0.3115071952342987; training acc = 87.5\n",
            "Batch 40 : training loss = 0.29317137598991394; training acc = 88.0\n",
            "Batch 60 : training loss = 0.31131067872047424; training acc = 85.0\n",
            "Batch 80 : training loss = 0.3151807487010956; training acc = 86.5\n",
            "Epoch 3 : Validation loss = 0.3722654906660318; Validation acc = 83.78\n",
            "Epoch 4:\n",
            "Batch 0 : training loss = 0.2771320343017578; training acc = 87.0\n",
            "Batch 20 : training loss = 0.19620035588741302; training acc = 95.0\n",
            "Batch 40 : training loss = 0.24900779128074646; training acc = 90.5\n",
            "Batch 60 : training loss = 0.23669880628585815; training acc = 90.5\n",
            "Batch 80 : training loss = 0.24544641375541687; training acc = 90.5\n",
            "Epoch 4 : Validation loss = 0.3637134386599064; Validation acc = 84.54\n",
            "Epoch 5:\n",
            "Batch 0 : training loss = 0.20203188061714172; training acc = 92.5\n",
            "Batch 20 : training loss = 0.20856128633022308; training acc = 95.0\n",
            "Batch 40 : training loss = 0.20481185615062714; training acc = 91.5\n",
            "Batch 60 : training loss = 0.16162265837192535; training acc = 95.0\n",
            "Batch 80 : training loss = 0.22409187257289886; training acc = 92.0\n",
            "Epoch 5 : Validation loss = 0.36930089324712756; Validation acc = 84.34\n",
            "Early stopping.\n",
            "Epoch 5 : Test loss = 0.4108851628601551; Test acc = 81.656\n"
          ]
        },
        {
          "output_type": "execute_result",
          "data": {
            "text/plain": [
              "[<matplotlib.lines.Line2D at 0x7f20b458db10>]"
            ]
          },
          "metadata": {},
          "execution_count": 46
        },
        {
          "output_type": "display_data",
          "data": {
            "text/plain": [
              "<Figure size 432x288 with 1 Axes>"
            ],
            "image/png": "[encoded data removed]"
          },
          "metadata": {
            "needs_background": "light"
          }
        }
      ]
    },
    {
      "cell_type": "markdown",
      "metadata": {
        "id": "rmQUbBVxLtwa"
      },
      "source": [
        "<div class='alert alert-block alert-warning'>\n",
        "            Questions:</div>\n",
        "            \n",
        "- What are the results **with and without fine-tuning of embeddings imported from GloVe** ?\n",
        "- Make hypothesis based on your intuition and the class on how the size of the vocabulary (change the minimum frequency of words to be taken in the vocabular) will impact results, in the three cases (No pre-training, pre-training without fine-tuning, pretraining with fine-tuning).\n",
        "- Verify experiments and analyze your results !"
      ]
    },
    {
      "cell_type": "markdown",
      "source": [
        "We can see that if we set the fine-tuning parameter to False we obtain a final accuracy on testing data of 72.3%. However, if we set it to True and that we look at the performance, we can see that we obtain an accuracy of 81.6% on testing data.\n",
        "Thus, the model accuracy is improving when we fine-tune with the embedding imported from GloVe.\n",
        "\n",
        "The size of the vocabulary can have several level of importance depending on the cases :  \n",
        "1.   No pre-training : the size of the vocabulary will impact for sur the model, we completely build the embedding on this vocabulary. So, if thi one is too small, the embedding won't be able to extract the real information from the text.\n",
        "2.   Pre-training without fine-tuning : the size of the vocabulary can impact the model but less than without any pre-training. Indeed, the pre-trained word embeddings capture the semantic and syntactic meaning of a word as they are trained on large datasets. Hence, the size of the vocabulary will lightly impact the model.\n",
        "3.   Pre-training with fine-tuning : the size of the vocabulary won't or will really slightly impact the model because the model will be pretrained and the vocabulary will already be built with trained weights on large datasets.\n",
        "\n",
        "\n",
        "We can see the following results with the experiences made below ;\n",
        "\n",
        "|min_freq| NO PRETRAINING  |  PRETRAINING WITH FINETUNING         | PRETRAINING WITHOUT FINETUNING|\n",
        "|:----| :---------------: |:---------------:| -----:|\n",
        "|5| 81.5  |  61.36   | 81.5 |\n",
        "|10| 81.784  | 62.332 |   81.62 |\n",
        "|15| 81.708  | 62.12   |   81.784 |\n",
        "\n",
        "\n",
        "Nothing seems to really change, we can wonder if the counter word is really working ?"
      ],
      "metadata": {
        "id": "rdlIUGuRhx8Q"
      }
    },
    {
      "cell_type": "code",
      "execution_count": 129,
      "metadata": {
        "id": "xc6i1FXsLil8",
        "colab": {
          "base_uri": "https://localhost:8080/"
        },
        "outputId": "420f0432-a642-452a-da39-6160356000cf"
      },
      "outputs": [
        {
          "output_type": "stream",
          "name": "stdout",
          "text": [
            "########### NO PRETRAINING ##############\n",
            "--------MINFREQ = 5 ----------\n",
            "Beginning training...\n",
            "Epoch 1:\n",
            "Batch 0 : training loss = 0.6914109587669373; training acc = 55.0\n",
            "Batch 20 : training loss = 0.6643921732902527; training acc = 68.0\n",
            "Batch 40 : training loss = 0.6367971897125244; training acc = 69.0\n",
            "Batch 60 : training loss = 0.6204842329025269; training acc = 70.0\n",
            "Batch 80 : training loss = 0.5536143779754639; training acc = 80.5\n",
            "Epoch 1 : Validation loss = 0.5441565673053265; Validation acc = 74.52\n",
            "Epoch 2:\n",
            "Batch 0 : training loss = 0.5431444644927979; training acc = 75.5\n",
            "Batch 20 : training loss = 0.47535598278045654; training acc = 77.0\n",
            "Batch 40 : training loss = 0.3933904767036438; training acc = 86.5\n",
            "Batch 60 : training loss = 0.4303431212902069; training acc = 82.5\n",
            "Batch 80 : training loss = 0.40195176005363464; training acc = 81.0\n",
            "Epoch 2 : Validation loss = 0.4214818593114614; Validation acc = 81.3\n",
            "Epoch 3:\n",
            "Batch 0 : training loss = 0.3438987731933594; training acc = 86.5\n",
            "Batch 20 : training loss = 0.36322522163391113; training acc = 85.5\n",
            "Batch 40 : training loss = 0.3108600378036499; training acc = 86.5\n",
            "Batch 60 : training loss = 0.3125709295272827; training acc = 88.0\n",
            "Batch 80 : training loss = 0.3890009820461273; training acc = 82.5\n",
            "Epoch 3 : Validation loss = 0.3804373639822006; Validation acc = 83.4\n",
            "Epoch 4:\n",
            "Batch 0 : training loss = 0.2772101163864136; training acc = 88.5\n",
            "Batch 20 : training loss = 0.26167967915534973; training acc = 90.5\n",
            "Batch 40 : training loss = 0.27617350220680237; training acc = 90.0\n",
            "Batch 60 : training loss = 0.2846498489379883; training acc = 88.0\n",
            "Batch 80 : training loss = 0.2986786961555481; training acc = 89.0\n",
            "Epoch 4 : Validation loss = 0.3664936029911041; Validation acc = 84.24\n",
            "Epoch 5:\n",
            "Batch 0 : training loss = 0.21688640117645264; training acc = 91.5\n",
            "Batch 20 : training loss = 0.24151599407196045; training acc = 92.0\n",
            "Batch 40 : training loss = 0.2154141217470169; training acc = 92.0\n",
            "Batch 60 : training loss = 0.22941291332244873; training acc = 90.0\n",
            "Batch 80 : training loss = 0.230417862534523; training acc = 90.5\n",
            "Epoch 5 : Validation loss = 0.36900466307997704; Validation acc = 84.22\n",
            "Early stopping.\n",
            "Epoch 5 : Test loss = 0.41132731600105765; Test acc = 81.5\n",
            "########### PRETRAINING WITHOUT FINETUNING #############\n",
            "Beginning training...\n",
            "Epoch 1:\n",
            "Batch 0 : training loss = 0.69489586353302; training acc = 51.0\n",
            "Batch 20 : training loss = 0.6902654767036438; training acc = 52.0\n",
            "Batch 40 : training loss = 0.6859297156333923; training acc = 54.0\n",
            "Batch 60 : training loss = 0.6856784224510193; training acc = 58.0\n",
            "Batch 80 : training loss = 0.6781103610992432; training acc = 57.5\n",
            "Epoch 1 : Validation loss = 0.6824855753779411; Validation acc = 58.3\n",
            "Epoch 2:\n",
            "Batch 0 : training loss = 0.6856098771095276; training acc = 58.5\n",
            "Batch 20 : training loss = 0.6809032559394836; training acc = 61.5\n",
            "Batch 40 : training loss = 0.670682966709137; training acc = 63.0\n",
            "Batch 60 : training loss = 0.6755675673484802; training acc = 60.0\n",
            "Batch 80 : training loss = 0.662899911403656; training acc = 65.5\n",
            "Epoch 2 : Validation loss = 0.6758743634819985; Validation acc = 58.74\n",
            "Epoch 3:\n",
            "Batch 0 : training loss = 0.6656471490859985; training acc = 64.5\n",
            "Batch 20 : training loss = 0.6812618970870972; training acc = 59.5\n",
            "Batch 40 : training loss = 0.6708776354789734; training acc = 62.0\n",
            "Batch 60 : training loss = 0.6673833727836609; training acc = 63.5\n",
            "Batch 80 : training loss = 0.6617031097412109; training acc = 61.5\n",
            "Epoch 3 : Validation loss = 0.6707525652647018; Validation acc = 59.56\n",
            "Epoch 4:\n",
            "Batch 0 : training loss = 0.6693611741065979; training acc = 63.0\n",
            "Batch 20 : training loss = 0.6678562164306641; training acc = 62.0\n",
            "Batch 40 : training loss = 0.6920820474624634; training acc = 50.5\n",
            "Batch 60 : training loss = 0.667998194694519; training acc = 62.0\n",
            "Batch 80 : training loss = 0.6419622898101807; training acc = 70.0\n",
            "Epoch 4 : Validation loss = 0.6672817432880401; Validation acc = 59.96\n",
            "Epoch 5:\n",
            "Batch 0 : training loss = 0.6503448486328125; training acc = 66.5\n",
            "Batch 20 : training loss = 0.6780231595039368; training acc = 59.5\n",
            "Batch 40 : training loss = 0.649290144443512; training acc = 64.0\n",
            "Batch 60 : training loss = 0.6595394611358643; training acc = 59.5\n",
            "Batch 80 : training loss = 0.6539545655250549; training acc = 63.5\n",
            "Epoch 5 : Validation loss = 0.6649036979675294; Validation acc = 60.04\n",
            "Epoch 5 : Test loss = 0.6595186561644077; Test acc = 61.36\n",
            "########### PRETRAINING WITH FINETUNING ##############\n",
            "Beginning training...\n",
            "Epoch 1:\n",
            "Batch 0 : training loss = 0.6952177286148071; training acc = 46.0\n",
            "Batch 20 : training loss = 0.6787463426589966; training acc = 55.5\n",
            "Batch 40 : training loss = 0.6556363105773926; training acc = 66.0\n",
            "Batch 60 : training loss = 0.6135583519935608; training acc = 75.5\n",
            "Batch 80 : training loss = 0.5427136421203613; training acc = 77.0\n",
            "Epoch 1 : Validation loss = 0.5219884118437768; Validation acc = 76.46\n",
            "Epoch 2:\n",
            "Batch 0 : training loss = 0.5063754916191101; training acc = 79.5\n",
            "Batch 20 : training loss = 0.4689827859401703; training acc = 79.5\n",
            "Batch 40 : training loss = 0.4051641821861267; training acc = 85.0\n",
            "Batch 60 : training loss = 0.4249139130115509; training acc = 82.0\n",
            "Batch 80 : training loss = 0.3544046878814697; training acc = 87.0\n",
            "Epoch 2 : Validation loss = 0.39608345113694665; Validation acc = 83.12\n",
            "Epoch 3:\n",
            "Batch 0 : training loss = 0.35074782371520996; training acc = 86.5\n",
            "Batch 20 : training loss = 0.28835803270339966; training acc = 93.0\n",
            "Batch 40 : training loss = 0.35578373074531555; training acc = 86.5\n",
            "Batch 60 : training loss = 0.3019048273563385; training acc = 87.0\n",
            "Batch 80 : training loss = 0.2846698462963104; training acc = 88.0\n",
            "Epoch 3 : Validation loss = 0.36582691960036756; Validation acc = 83.92\n",
            "Epoch 4:\n",
            "Batch 0 : training loss = 0.22683627903461456; training acc = 93.0\n",
            "Batch 20 : training loss = 0.23965735733509064; training acc = 92.0\n",
            "Batch 40 : training loss = 0.24058464169502258; training acc = 90.0\n",
            "Batch 60 : training loss = 0.26320528984069824; training acc = 90.0\n",
            "Batch 80 : training loss = 0.2207087278366089; training acc = 93.0\n",
            "Epoch 4 : Validation loss = 0.3581009109318256; Validation acc = 84.58\n",
            "Epoch 5:\n",
            "Batch 0 : training loss = 0.18086378276348114; training acc = 94.5\n",
            "Batch 20 : training loss = 0.17430727183818817; training acc = 95.0\n",
            "Batch 40 : training loss = 0.21520061790943146; training acc = 93.0\n",
            "Batch 60 : training loss = 0.1597471833229065; training acc = 94.0\n",
            "Batch 80 : training loss = 0.17978908121585846; training acc = 93.5\n",
            "Epoch 5 : Validation loss = 0.363923938088119; Validation acc = 84.44\n",
            "Early stopping.\n",
            "Epoch 5 : Test loss = 0.41570294021442533; Test acc = 81.496\n",
            "--------MINFREQ = 10 ----------\n",
            "Beginning training...\n",
            "Epoch 1:\n",
            "Batch 0 : training loss = 0.6939796209335327; training acc = 51.5\n",
            "Batch 20 : training loss = 0.672537624835968; training acc = 64.0\n",
            "Batch 40 : training loss = 0.6441735029220581; training acc = 69.5\n",
            "Batch 60 : training loss = 0.6042243242263794; training acc = 73.0\n",
            "Batch 80 : training loss = 0.6020099520683289; training acc = 66.5\n",
            "Epoch 1 : Validation loss = 0.5457788634300232; Validation acc = 74.16\n",
            "Epoch 2:\n",
            "Batch 0 : training loss = 0.5085630416870117; training acc = 81.0\n",
            "Batch 20 : training loss = 0.4470860958099365; training acc = 84.5\n",
            "Batch 40 : training loss = 0.4556027352809906; training acc = 80.5\n",
            "Batch 60 : training loss = 0.43254271149635315; training acc = 79.5\n",
            "Batch 80 : training loss = 0.43234971165657043; training acc = 82.0\n",
            "Epoch 2 : Validation loss = 0.4229343744367361; Validation acc = 80.74\n",
            "Epoch 3:\n",
            "Batch 0 : training loss = 0.41238296031951904; training acc = 83.0\n",
            "Batch 20 : training loss = 0.2938029170036316; training acc = 91.0\n",
            "Batch 40 : training loss = 0.3096604645252228; training acc = 88.5\n",
            "Batch 60 : training loss = 0.3138783574104309; training acc = 87.0\n",
            "Batch 80 : training loss = 0.43721550703048706; training acc = 79.0\n",
            "Epoch 3 : Validation loss = 0.382284312620759; Validation acc = 82.94\n",
            "Epoch 4:\n",
            "Batch 0 : training loss = 0.2851971387863159; training acc = 91.5\n",
            "Batch 20 : training loss = 0.30670639872550964; training acc = 87.0\n",
            "Batch 40 : training loss = 0.24138034880161285; training acc = 92.0\n",
            "Batch 60 : training loss = 0.21979229152202606; training acc = 91.5\n",
            "Batch 80 : training loss = 0.22907932102680206; training acc = 91.5\n",
            "Epoch 4 : Validation loss = 0.3673809237033129; Validation acc = 83.9\n",
            "Epoch 5:\n",
            "Batch 0 : training loss = 0.24402275681495667; training acc = 92.5\n",
            "Batch 20 : training loss = 0.20950503647327423; training acc = 93.5\n",
            "Batch 40 : training loss = 0.24657118320465088; training acc = 90.0\n",
            "Batch 60 : training loss = 0.28465554118156433; training acc = 89.0\n",
            "Batch 80 : training loss = 0.21468116343021393; training acc = 93.0\n",
            "Epoch 5 : Validation loss = 0.36697448618710043; Validation acc = 83.94\n",
            "Epoch 5 : Test loss = 0.4045734513103962; Test acc = 81.812\n",
            "########### PRETRAINING WITHOUT FINETUNING #############\n",
            "Beginning training...\n",
            "Epoch 1:\n",
            "Batch 0 : training loss = 0.6940923929214478; training acc = 48.5\n",
            "Batch 20 : training loss = 0.6859143972396851; training acc = 53.5\n",
            "Batch 40 : training loss = 0.6939247846603394; training acc = 50.5\n",
            "Batch 60 : training loss = 0.6790465712547302; training acc = 60.5\n",
            "Batch 80 : training loss = 0.6836303472518921; training acc = 52.0\n",
            "Epoch 1 : Validation loss = 0.6826348426938057; Validation acc = 58.04\n",
            "Epoch 2:\n",
            "Batch 0 : training loss = 0.6783586144447327; training acc = 58.5\n",
            "Batch 20 : training loss = 0.6812496781349182; training acc = 55.5\n",
            "Batch 40 : training loss = 0.6818623542785645; training acc = 61.0\n",
            "Batch 60 : training loss = 0.6736857891082764; training acc = 63.0\n",
            "Batch 80 : training loss = 0.6705521941184998; training acc = 65.5\n",
            "Epoch 2 : Validation loss = 0.6763653072714806; Validation acc = 58.98\n",
            "Epoch 3:\n",
            "Batch 0 : training loss = 0.6678773760795593; training acc = 59.5\n",
            "Batch 20 : training loss = 0.6858790516853333; training acc = 57.0\n",
            "Batch 40 : training loss = 0.6680727601051331; training acc = 62.5\n",
            "Batch 60 : training loss = 0.6688815951347351; training acc = 59.5\n",
            "Batch 80 : training loss = 0.6832323670387268; training acc = 58.5\n",
            "Epoch 3 : Validation loss = 0.6714285641908646; Validation acc = 59.82\n",
            "Epoch 4:\n",
            "Batch 0 : training loss = 0.6687216758728027; training acc = 58.5\n",
            "Batch 20 : training loss = 0.6692153215408325; training acc = 55.5\n",
            "Batch 40 : training loss = 0.6715742349624634; training acc = 60.0\n",
            "Batch 60 : training loss = 0.6583824157714844; training acc = 63.5\n",
            "Batch 80 : training loss = 0.6440083384513855; training acc = 70.5\n",
            "Epoch 4 : Validation loss = 0.6687766999006272; Validation acc = 59.44\n",
            "Epoch 5:\n",
            "Batch 0 : training loss = 0.6553634405136108; training acc = 62.5\n",
            "Batch 20 : training loss = 0.6622869968414307; training acc = 63.0\n",
            "Batch 40 : training loss = 0.6689755916595459; training acc = 66.0\n",
            "Batch 60 : training loss = 0.6499279141426086; training acc = 63.0\n",
            "Batch 80 : training loss = 0.6766205430030823; training acc = 58.0\n",
            "Epoch 5 : Validation loss = 0.6638526558876038; Validation acc = 60.5\n",
            "Epoch 5 : Test loss = 0.6600022146701813; Test acc = 61.82\n",
            "########### PRETRAINING WITH FINETUNING ##############\n",
            "Beginning training...\n",
            "Epoch 1:\n",
            "Batch 0 : training loss = 0.6953800320625305; training acc = 47.0\n",
            "Batch 20 : training loss = 0.6701220870018005; training acc = 64.5\n",
            "Batch 40 : training loss = 0.6630291938781738; training acc = 61.5\n",
            "Batch 60 : training loss = 0.6299960613250732; training acc = 69.0\n",
            "Batch 80 : training loss = 0.55049729347229; training acc = 77.0\n",
            "Epoch 1 : Validation loss = 0.5280536273121834; Validation acc = 76.68\n",
            "Epoch 2:\n",
            "Batch 0 : training loss = 0.5021815896034241; training acc = 80.0\n",
            "Batch 20 : training loss = 0.43422916531562805; training acc = 84.5\n",
            "Batch 40 : training loss = 0.3825817406177521; training acc = 85.5\n",
            "Batch 60 : training loss = 0.37446263432502747; training acc = 85.5\n",
            "Batch 80 : training loss = 0.37459874153137207; training acc = 84.5\n",
            "Epoch 2 : Validation loss = 0.40093827322125436; Validation acc = 83.0\n",
            "Epoch 3:\n",
            "Batch 0 : training loss = 0.37554654479026794; training acc = 84.5\n",
            "Batch 20 : training loss = 0.28879544138908386; training acc = 93.0\n",
            "Batch 40 : training loss = 0.30866366624832153; training acc = 86.0\n",
            "Batch 60 : training loss = 0.2766859531402588; training acc = 88.0\n",
            "Batch 80 : training loss = 0.3058931231498718; training acc = 86.5\n",
            "Epoch 3 : Validation loss = 0.3679989057034254; Validation acc = 84.16\n",
            "Epoch 4:\n",
            "Batch 0 : training loss = 0.2536669373512268; training acc = 90.0\n",
            "Batch 20 : training loss = 0.22114601731300354; training acc = 93.5\n",
            "Batch 40 : training loss = 0.25395798683166504; training acc = 89.5\n",
            "Batch 60 : training loss = 0.2257772833108902; training acc = 91.5\n",
            "Batch 80 : training loss = 0.27593758702278137; training acc = 88.0\n",
            "Epoch 4 : Validation loss = 0.3627142331749201; Validation acc = 84.04\n",
            "Epoch 5:\n",
            "Batch 0 : training loss = 0.22382697463035583; training acc = 92.5\n",
            "Batch 20 : training loss = 0.21042421460151672; training acc = 91.5\n",
            "Batch 40 : training loss = 0.198624387383461; training acc = 93.5\n",
            "Batch 60 : training loss = 0.22121918201446533; training acc = 91.5\n",
            "Batch 80 : training loss = 0.16322088241577148; training acc = 95.0\n",
            "Epoch 5 : Validation loss = 0.36638179685920474; Validation acc = 83.94\n",
            "Early stopping.\n",
            "Epoch 5 : Test loss = 0.4104680735580623; Test acc = 81.78\n",
            "--------MINFREQ = 15 ----------\n",
            "Beginning training...\n",
            "Epoch 1:\n",
            "Batch 0 : training loss = 0.6932048797607422; training acc = 47.0\n",
            "Batch 20 : training loss = 0.6693757772445679; training acc = 63.0\n",
            "Batch 40 : training loss = 0.6578832268714905; training acc = 59.5\n",
            "Batch 60 : training loss = 0.6268488764762878; training acc = 68.5\n",
            "Batch 80 : training loss = 0.5617842078208923; training acc = 76.5\n",
            "Epoch 1 : Validation loss = 0.5484554770588875; Validation acc = 74.7\n",
            "Epoch 2:\n",
            "Batch 0 : training loss = 0.5135985016822815; training acc = 82.0\n",
            "Batch 20 : training loss = 0.48233768343925476; training acc = 79.5\n",
            "Batch 40 : training loss = 0.43553411960601807; training acc = 83.0\n",
            "Batch 60 : training loss = 0.3734426498413086; training acc = 89.0\n",
            "Batch 80 : training loss = 0.40514323115348816; training acc = 85.0\n",
            "Epoch 2 : Validation loss = 0.4270461876690388; Validation acc = 80.88\n",
            "Epoch 3:\n",
            "Batch 0 : training loss = 0.3521419167518616; training acc = 85.5\n",
            "Batch 20 : training loss = 0.39762741327285767; training acc = 82.0\n",
            "Batch 40 : training loss = 0.3481465280056; training acc = 88.0\n",
            "Batch 60 : training loss = 0.31352901458740234; training acc = 87.5\n",
            "Batch 80 : training loss = 0.29718807339668274; training acc = 90.5\n",
            "Epoch 3 : Validation loss = 0.3848409152776003; Validation acc = 83.44\n",
            "Epoch 4:\n",
            "Batch 0 : training loss = 0.2981679439544678; training acc = 86.0\n",
            "Batch 20 : training loss = 0.2786276042461395; training acc = 90.0\n",
            "Batch 40 : training loss = 0.34895315766334534; training acc = 82.5\n",
            "Batch 60 : training loss = 0.2437238246202469; training acc = 92.0\n",
            "Batch 80 : training loss = 0.31378787755966187; training acc = 86.5\n",
            "Epoch 4 : Validation loss = 0.3702251087129116; Validation acc = 83.94\n",
            "Epoch 5:\n",
            "Batch 0 : training loss = 0.24969325959682465; training acc = 92.5\n",
            "Batch 20 : training loss = 0.2729453146457672; training acc = 88.5\n",
            "Batch 40 : training loss = 0.22628918290138245; training acc = 90.0\n",
            "Batch 60 : training loss = 0.2267676591873169; training acc = 90.5\n",
            "Batch 80 : training loss = 0.2483629435300827; training acc = 90.5\n",
            "Epoch 5 : Validation loss = 0.3694240206480026; Validation acc = 83.92\n",
            "Epoch 5 : Test loss = 0.4061523680239916; Test acc = 81.62\n",
            "########### PRETRAINING WITHOUT FINETUNING #############\n",
            "Beginning training...\n",
            "Epoch 1:\n",
            "Batch 0 : training loss = 0.6879006028175354; training acc = 55.0\n",
            "Batch 20 : training loss = 0.6860896348953247; training acc = 54.5\n",
            "Batch 40 : training loss = 0.6836495995521545; training acc = 58.5\n",
            "Batch 60 : training loss = 0.6847752928733826; training acc = 54.0\n",
            "Batch 80 : training loss = 0.6827687621116638; training acc = 58.0\n",
            "Epoch 1 : Validation loss = 0.6824083203077316; Validation acc = 57.68\n",
            "Epoch 2:\n",
            "Batch 0 : training loss = 0.673129677772522; training acc = 60.5\n",
            "Batch 20 : training loss = 0.6775877475738525; training acc = 62.0\n",
            "Batch 40 : training loss = 0.6767851114273071; training acc = 57.0\n",
            "Batch 60 : training loss = 0.6767944097518921; training acc = 61.0\n",
            "Batch 80 : training loss = 0.675536572933197; training acc = 61.0\n",
            "Epoch 2 : Validation loss = 0.6757743567228317; Validation acc = 58.98\n",
            "Epoch 3:\n",
            "Batch 0 : training loss = 0.6703827381134033; training acc = 58.5\n",
            "Batch 20 : training loss = 0.6738712191581726; training acc = 59.5\n",
            "Batch 40 : training loss = 0.6699855923652649; training acc = 61.0\n",
            "Batch 60 : training loss = 0.6708301305770874; training acc = 55.5\n",
            "Batch 80 : training loss = 0.6685478091239929; training acc = 58.5\n",
            "Epoch 3 : Validation loss = 0.6707030987739563; Validation acc = 59.6\n",
            "Epoch 4:\n",
            "Batch 0 : training loss = 0.6616988182067871; training acc = 67.0\n",
            "Batch 20 : training loss = 0.670332670211792; training acc = 60.0\n",
            "Batch 40 : training loss = 0.6803408265113831; training acc = 58.0\n",
            "Batch 60 : training loss = 0.6648319363594055; training acc = 63.5\n",
            "Batch 80 : training loss = 0.6818652153015137; training acc = 55.0\n",
            "Epoch 4 : Validation loss = 0.6665994247794151; Validation acc = 60.28\n",
            "Epoch 5:\n",
            "Batch 0 : training loss = 0.6603467464447021; training acc = 64.5\n",
            "Batch 20 : training loss = 0.6683505773544312; training acc = 61.0\n",
            "Batch 40 : training loss = 0.6563284397125244; training acc = 65.5\n",
            "Batch 60 : training loss = 0.6639390587806702; training acc = 61.5\n",
            "Batch 80 : training loss = 0.6683822870254517; training acc = 63.5\n",
            "Epoch 5 : Validation loss = 0.6625648194551468; Validation acc = 60.66\n",
            "Epoch 5 : Test loss = 0.6582249174714089; Test acc = 62.208\n",
            "########### PRETRAINING WITH FINETUNING ##############\n",
            "Beginning training...\n",
            "Epoch 1:\n",
            "Batch 0 : training loss = 0.6923912167549133; training acc = 54.0\n",
            "Batch 20 : training loss = 0.6703218817710876; training acc = 57.5\n",
            "Batch 40 : training loss = 0.6530961394309998; training acc = 66.5\n",
            "Batch 60 : training loss = 0.6252362132072449; training acc = 68.0\n",
            "Batch 80 : training loss = 0.5589541792869568; training acc = 74.5\n",
            "Epoch 1 : Validation loss = 0.5269511707127095; Validation acc = 76.72\n",
            "Epoch 2:\n",
            "Batch 0 : training loss = 0.5134279131889343; training acc = 78.0\n",
            "Batch 20 : training loss = 0.41518497467041016; training acc = 85.0\n",
            "Batch 40 : training loss = 0.4654501676559448; training acc = 78.5\n",
            "Batch 60 : training loss = 0.377493292093277; training acc = 88.0\n",
            "Batch 80 : training loss = 0.3331882953643799; training acc = 89.0\n",
            "Epoch 2 : Validation loss = 0.4037495682388544; Validation acc = 82.56\n",
            "Epoch 3:\n",
            "Batch 0 : training loss = 0.33329346776008606; training acc = 86.0\n",
            "Batch 20 : training loss = 0.35409337282180786; training acc = 83.5\n",
            "Batch 40 : training loss = 0.28528785705566406; training acc = 91.0\n",
            "Batch 60 : training loss = 0.31759923696517944; training acc = 88.0\n",
            "Batch 80 : training loss = 0.33055633306503296; training acc = 85.5\n",
            "Epoch 3 : Validation loss = 0.37088600888848305; Validation acc = 83.84\n",
            "Epoch 4:\n",
            "Batch 0 : training loss = 0.2814732789993286; training acc = 89.0\n",
            "Batch 20 : training loss = 0.2331911325454712; training acc = 91.5\n",
            "Batch 40 : training loss = 0.2659620940685272; training acc = 91.5\n",
            "Batch 60 : training loss = 0.285164475440979; training acc = 89.5\n",
            "Batch 80 : training loss = 0.25225022435188293; training acc = 87.5\n",
            "Epoch 4 : Validation loss = 0.36495337173342707; Validation acc = 84.1\n",
            "Epoch 5:\n",
            "Batch 0 : training loss = 0.23532871901988983; training acc = 91.0\n",
            "Batch 20 : training loss = 0.22768297791481018; training acc = 89.5\n",
            "Batch 40 : training loss = 0.24763961136341095; training acc = 92.5\n",
            "Batch 60 : training loss = 0.17663170397281647; training acc = 93.5\n",
            "Batch 80 : training loss = 0.3067198693752289; training acc = 85.5\n",
            "Epoch 5 : Validation loss = 0.3684135790169239; Validation acc = 84.06\n",
            "Early stopping.\n",
            "Epoch 5 : Test loss = 0.4095529368445277; Test acc = 81.84\n"
          ]
        }
      ],
      "source": [
        "print(\"########### NO PRETRAINING ##############\")\n",
        "for freq in [5, 10, 15]:\n",
        "  print(f\"--------MINFREQ = {freq} ----------\")\n",
        "\n",
        "  training_dataset = TextClassificationDataset(train_texts_splt, train_labels_splt, min_freq = freq)\n",
        "  training_word2idx, training_idx2word = training_dataset.get_vocab()\n",
        "  valid_dataset = TextClassificationDataset(val_texts, val_labels, (training_word2idx, training_idx2word), min_freq = freq)\n",
        "  test_dataset = TextClassificationDataset(test_texts, test_labels, (training_word2idx, training_idx2word), min_freq = freq)\n",
        "  training_dataloader = DataLoader(training_dataset, batch_size = 200, shuffle=True)\n",
        "  valid_dataloader = DataLoader(valid_dataset, batch_size = 25)\n",
        "  test_dataloader = DataLoader(test_dataset, batch_size = 25)\n",
        "  \n",
        "  model = AveragingModel(300, len(training_word2idx))\n",
        "  opt = optim.Adam(model.parameters(), lr=0.0025, betas=(0.9, 0.999))\n",
        "  criterion = nn.BCEWithLogitsLoss()\n",
        "  train_losses = experiment(model, opt, criterion)\n",
        "\n",
        "  print(\"########### PRETRAINING WITHOUT FINETUNING #############\")\n",
        "\n",
        "  model = PretrainedAveragingModel(torch.FloatTensor(GloveEmbeddings))\n",
        "  opt = optim.Adam(model.parameters(), lr=0.0025, betas=(0.9, 0.999))\n",
        "  criterion = nn.BCEWithLogitsLoss()\n",
        "  train_losses = experiment(model, opt, criterion)\n",
        "\n",
        "  print(\"########### PRETRAINING WITH FINETUNING ##############\")\n",
        "\n",
        "  model = PretrainedAveragingModel(torch.FloatTensor(GloveEmbeddings), fine_tune = True)\n",
        "  opt = optim.Adam(model.parameters(), lr=0.0025, betas=(0.9, 0.999))\n",
        "  criterion = nn.BCEWithLogitsLoss()\n",
        "  train_losses = experiment(model, opt, criterion)"
      ]
    },
    {
      "cell_type": "markdown",
      "metadata": {
        "id": "KTl3gbSUMBLw"
      },
      "source": [
        "## 5 - Creating a LSTM model"
      ]
    },
    {
      "cell_type": "markdown",
      "source": [],
      "metadata": {
        "id": "HuLBF1IWA_Vh"
      }
    },
    {
      "cell_type": "code",
      "execution_count": 88,
      "metadata": {
        "id": "8yaj6nLJMDR4",
        "colab": {
          "base_uri": "https://localhost:8080/"
        },
        "outputId": "1f1d14ec-03b9-4cc9-9fe2-96e55910508d"
      },
      "outputs": [
        {
          "output_type": "stream",
          "name": "stdout",
          "text": [
            "torch.Size([5, 1, 3])\n",
            "--------------------------------------------------------\n",
            "(tensor([[[0.0018, 0.0540, 0.0370]]], grad_fn=<StackBackward0>), tensor([[[0.0032, 0.1141, 0.0826]]], grad_fn=<StackBackward0>))\n"
          ]
        }
      ],
      "source": [
        "# Create a toy example of LSTM: \n",
        "lstm = nn.LSTM(3, 3)  # Input dim is 3, output dim is 3\n",
        "inputs = [torch.randn(1, 3) for _ in range(5)]  # make a sequence of length 5\n",
        "# LSTMs expect inputs having 3 dimensions:\n",
        "# - The first dimension is the temporal dimension, along which we (in our case) have the different words\n",
        "# - The second dimension is the batch dimension, along which we stack the independant batches\n",
        "# - The third dimension is the feature dimension, along which are the features of the vector representing the words\n",
        "\n",
        "# In our toy case, we have inputs and outputs containing 3 features (third dimension !)\n",
        "# We created a sequence of 5 different inputs (first dimension !)\n",
        "# We don't use batch (the second dimension will have one lement)\n",
        "\n",
        "# We need an initial hidden state, of the right sizes for dimension 2/3, but with only one temporal element:\n",
        "# Here, it is:\n",
        "hidden = (torch.randn(1, 1, 3),\n",
        "          torch.randn(1, 1, 3))\n",
        "# Why do we create a tuple of two tensors ? Because we use LSTMs: remember that they use two sets of weights,\n",
        "# and two hidden states (Hidden state, and Cell state).\n",
        "# If you don't remember, read: https://colah.github.io/posts/2015-08-Understanding-LSTMs/\n",
        "# If we used a classic RNN, we would simply have:\n",
        "# hidden = torch.randn(1, 1, 3)\n",
        "\n",
        "# The naive way of applying a lstm to inputs is to apply it one step at a time, and loop through the sequence\n",
        "for i in inputs:\n",
        "    # After each step, hidden contains the hidden states (remember, it's a tuple of two states).\n",
        "    out, hidden = lstm(i.view(1, 1, -1), hidden)\n",
        "    \n",
        "# Alternatively, we can do the entire sequence all at once.\n",
        "# The first value returned by LSTM is all of the Hidden states throughout the sequence.\n",
        "# The second is just the most recent Hidden state and Cell state (you can compare the values)\n",
        "# The reason for this is that:\n",
        "# \"out\" will give you access to all hidden states in the sequence, for each temporal step\n",
        "# \"hidden\" will allow you to continue the sequence and backpropagate later, with another sequence\n",
        "inputs = torch.cat(inputs).view(len(inputs), 1, -1)\n",
        "hidden = (torch.randn(1, 1, 3), torch.randn(1, 1, 3))  # Re-initialize\n",
        "out, hidden = lstm(inputs, hidden)\n",
        "print(out.shape)\n",
        "print('--------------------------------------------------------')\n",
        "print(hidden)"
      ]
    },
    {
      "cell_type": "markdown",
      "metadata": {
        "id": "QxCCoIVwMEoX"
      },
      "source": [
        "We'll implement now a LSTM model, taking the same inputs and also outputing a score for the sentence."
      ]
    },
    {
      "cell_type": "markdown",
      "metadata": {
        "id": "P31Gh62obzPw"
      },
      "source": [
        "<div class='alert alert-block alert-info'>\n",
        "            Code:</div>"
      ]
    },
    {
      "cell_type": "code",
      "execution_count": 130,
      "metadata": {
        "id": "7obmINvlMGCB"
      },
      "outputs": [],
      "source": [
        "# Models are usually implemented as custom nn.Module subclass\n",
        "# We need to redefine the __init__ method, which creates the object\n",
        "# We also need to redefine the forward method, which transform the input into outputs\n",
        "from torch.autograd import Variable\n",
        "\n",
        "class LSTMModel(nn.Module):\n",
        "    def __init__(self, embedding_dim, vocabulary_size, hidden_dim, embeddings=None, fine_tuning=False):\n",
        "      # To complete     \n",
        "      super().__init__()\n",
        "      self.hidden_dim = hidden_dim\n",
        "      if embeddings is None:\n",
        "        self.embedding = nn.Embedding(vocabulary_size+1, embedding_dim)\n",
        "      else :\n",
        "        self.embedding = nn.Embedding.from_pretrained(embeddings.requires_grad_(fine_tuning))\n",
        "\n",
        "      # Create a linear layer that will transform the mean of the embeddings into a classification score\n",
        "      self.lstm = nn.LSTM(embedding_dim, hidden_dim, 1, batch_first=True)\n",
        "      # No need for sigmoid, it will be into the criterion ! \n",
        "      self.linear = nn.Linear(hidden_dim, 1)\n",
        "      \n",
        "    def forward(self, inputs):\n",
        "      # Remember: the inputs are written as Batch_size * seq_length * embedding_dim\n",
        "      inputs = self.embedding(inputs)\n",
        "      hidden = (torch.randn(1, np.shape(inputs)[0], self.hidden_dim), \n",
        "                torch.randn(1, np.shape(inputs)[0], self.hidden_dim))\n",
        "      output, (hidden, cell) = self.lstm(inputs, hidden)\n",
        "      o = self.linear(cell).squeeze()\n",
        "      return o\n",
        " "
      ]
    },
    {
      "cell_type": "code",
      "source": [
        "model = LSTMModel(100, len(training_word2idx), 10)\n",
        "# Create an optimizer\n",
        "opt = optim.Adam(model.parameters(), lr=0.005, betas=(0.9, 0.999))\n",
        "# The criterion is a binary cross entropy loss based on logits - meaning that the sigmoid is integrated into the criterion\n",
        "criterion = nn.BCEWithLogitsLoss()\n",
        "\n",
        "train_losses = experiment(model, opt, criterion)\n",
        "\n",
        "plt.plot(train_losses)"
      ],
      "metadata": {
        "colab": {
          "base_uri": "https://localhost:8080/",
          "height": 844
        },
        "id": "seflbGrn8Hx8",
        "outputId": "e7156111-af8a-4ec4-b192-3305b2fefc32"
      },
      "execution_count": 131,
      "outputs": [
        {
          "output_type": "stream",
          "name": "stdout",
          "text": [
            "Beginning training...\n",
            "Epoch 1:\n",
            "Batch 0 : training loss = 0.6978667974472046; training acc = 55.0\n",
            "Batch 20 : training loss = 0.7099014520645142; training acc = 53.0\n",
            "Batch 40 : training loss = 0.6756012439727783; training acc = 60.5\n",
            "Batch 60 : training loss = 0.6949223875999451; training acc = 50.0\n",
            "Batch 80 : training loss = 0.6911258101463318; training acc = 51.0\n",
            "Epoch 1 : Validation loss = 0.690545780658722; Validation acc = 52.88\n",
            "Epoch 2:\n",
            "Batch 0 : training loss = 0.6601669192314148; training acc = 63.5\n",
            "Batch 20 : training loss = 0.655239999294281; training acc = 61.5\n",
            "Batch 40 : training loss = 0.6408723592758179; training acc = 60.0\n",
            "Batch 60 : training loss = 0.593522310256958; training acc = 70.5\n",
            "Batch 80 : training loss = 0.5957775712013245; training acc = 71.0\n",
            "Epoch 2 : Validation loss = 0.5638968421518803; Validation acc = 71.22\n",
            "Epoch 3:\n",
            "Batch 0 : training loss = 0.4395224452018738; training acc = 80.0\n",
            "Batch 20 : training loss = 0.4541233777999878; training acc = 77.5\n",
            "Batch 40 : training loss = 0.41388139128685; training acc = 82.5\n",
            "Batch 60 : training loss = 0.44247162342071533; training acc = 81.5\n",
            "Batch 80 : training loss = 0.38018798828125; training acc = 84.0\n",
            "Epoch 3 : Validation loss = 0.49394853472709654; Validation acc = 76.02\n",
            "Epoch 4:\n",
            "Batch 0 : training loss = 0.24831940233707428; training acc = 94.0\n",
            "Batch 20 : training loss = 0.2254467010498047; training acc = 93.0\n",
            "Batch 40 : training loss = 0.2516593337059021; training acc = 91.0\n",
            "Batch 60 : training loss = 0.2520695924758911; training acc = 89.0\n",
            "Batch 80 : training loss = 0.286530464887619; training acc = 88.5\n",
            "Epoch 4 : Validation loss = 0.5401514454185963; Validation acc = 77.76\n",
            "Early stopping.\n",
            "Epoch 4 : Test loss = 0.5946551614627242; Test acc = 75.96\n"
          ]
        },
        {
          "output_type": "execute_result",
          "data": {
            "text/plain": [
              "[<matplotlib.lines.Line2D at 0x7f20a0bc8e50>]"
            ]
          },
          "metadata": {},
          "execution_count": 131
        },
        {
          "output_type": "display_data",
          "data": {
            "text/plain": [
              "<Figure size 432x288 with 1 Axes>"
            ],
            "image/png": "[encoded data removed]"
          },
          "metadata": {
            "needs_background": "light"
          }
        }
      ]
    },
    {
      "cell_type": "markdown",
      "metadata": {
        "id": "55yoCnZCMMzh"
      },
      "source": [
        "<div class='alert alert-block alert-warning'>\n",
        "            Questions:</div>\n",
        "            \n",
        "- What do you see with a simple application of LSTM models ? List the possible reasons for that result (these could be linked to the data, the way it is pre-processed, the architecture, and the training procedure). "
      ]
    },
    {
      "cell_type": "markdown",
      "source": [
        "The LSTM are a special kind of RNN, capable of learning long-term dependencies, they are designed specially to avoid the long-term dependency problem, remembering information for long periods of time. The accuracy of LSTM model seems to be better than all the other models, but if we limit the size of the sentences taken, the LSTM will be less usefull for smaller sentences. If the min_freq get higher we can easily imagine than the accuracy of lstm model will decrease. This is due to the architecture of LSTM itself and to the pre-processing of the data which is built to learn well long term dependecies (if there long term dependency = for larger sentences)."
      ],
      "metadata": {
        "id": "bQAYX9w35tZw"
      }
    },
    {
      "cell_type": "code",
      "source": [
        "print(\"########### LSTM ##############\")\n",
        "for freq in [5, 10, 15]:\n",
        "  print(f\"--------MINFREQ = {freq} ----------\")\n",
        "\n",
        "  training_dataset = TextClassificationDataset(train_texts_splt, train_labels_splt, min_freq = freq)\n",
        "  training_word2idx, training_idx2word = training_dataset.get_vocab()\n",
        "  valid_dataset = TextClassificationDataset(val_texts, val_labels, (training_word2idx, training_idx2word), min_freq = freq)\n",
        "  test_dataset = TextClassificationDataset(test_texts, test_labels, (training_word2idx, training_idx2word), min_freq = freq)\n",
        "  training_dataloader = DataLoader(training_dataset, batch_size = 200, shuffle=True)\n",
        "  valid_dataloader = DataLoader(valid_dataset, batch_size = 25)\n",
        "  test_dataloader = DataLoader(test_dataset, batch_size = 25)\n",
        "  \n",
        "  \n",
        "  model = LSTMModel(100, len(training_word2idx), 10)\n",
        "  # Create an optimizer\n",
        "  opt = optim.Adam(model.parameters(), lr=0.005, betas=(0.9, 0.999))\n",
        "  # The criterion is a binary cross entropy loss based on logits - meaning that the sigmoid is integrated into the criterion\n",
        "  criterion = nn.BCEWithLogitsLoss()\n",
        "\n",
        "  train_losses = experiment(model, opt, criterion)\n"
      ],
      "metadata": {
        "id": "DrLvhgDCY6oM"
      },
      "execution_count": null,
      "outputs": []
    },
    {
      "cell_type": "markdown",
      "metadata": {
        "id": "RsPQtHgBRiVl"
      },
      "source": [
        "## 6 - Fine-tuning a Bert model\n",
        "\n",
        "Fine-tune the lightest BERT model available on IMDB data and compare it with previous results ! You should simply follow the tutorial and slightly adapt it to our way of obtaining the data:\n",
        "https://huggingface.co/transformers/custom_datasets.html#seq-imdb"
      ]
    },
    {
      "cell_type": "code",
      "execution_count": null,
      "metadata": {
        "id": "NeihrVgpMILu"
      },
      "outputs": [],
      "source": [
        "!pip install transformers\n",
        "!pip install datasets\n",
        "!pip install evaluate"
      ]
    },
    {
      "cell_type": "code",
      "source": [
        "from transformers import AutoModelForSequenceClassification\n",
        "from torch.utils.data import DataLoader\n",
        "from transformers import AutoTokenizer\n",
        "from transformers import get_scheduler\n",
        "from datasets import load_dataset, load_metric\n",
        "from torch.optim import AdamW\n",
        "from tqdm.auto import tqdm\n",
        "import torch"
      ],
      "metadata": {
        "id": "tMqi68UzvllQ"
      },
      "execution_count": null,
      "outputs": []
    },
    {
      "cell_type": "code",
      "source": [
        "dataset = load_dataset('imdb')"
      ],
      "metadata": {
        "id": "H3cbARK2vtV8"
      },
      "execution_count": null,
      "outputs": []
    },
    {
      "cell_type": "code",
      "source": [
        "tokenizer = AutoTokenizer.from_pretrained(\"bert-base-cased\")\n",
        "\n",
        "\n",
        "def tokenize_function(examples):\n",
        "  return tokenizer(examples[\"text\"], padding=\"max_length\", truncation=True)\n",
        "\n",
        "\n",
        "tokenized_datasets = dataset.map(tokenize_function, batched=True)"
      ],
      "metadata": {
        "id": "2CocRZeFUURH"
      },
      "execution_count": null,
      "outputs": []
    },
    {
      "cell_type": "code",
      "source": [
        "print(len(dataset[\"train\"]), len(dataset[\"test\"]))"
      ],
      "metadata": {
        "id": "BWqoyOiwsDoY"
      },
      "execution_count": null,
      "outputs": []
    },
    {
      "cell_type": "code",
      "source": [
        "tokenized_datasets = tokenized_datasets.remove_columns([\"text\"])\n",
        "tokenized_datasets = tokenized_datasets.rename_column(\"label\", \"labels\")\n",
        "tokenized_datasets.set_format(\"torch\")\n",
        "small_train_dataset = tokenized_datasets[\"train\"].shuffle(seed=42).select(range(1500))\n",
        "small_eval_dataset = tokenized_datasets[\"test\"].shuffle(seed=42).select(range(100))"
      ],
      "metadata": {
        "id": "jp0-mDavV_FC"
      },
      "execution_count": null,
      "outputs": []
    },
    {
      "cell_type": "code",
      "execution_count": null,
      "metadata": {
        "id": "IS6apFUyMTdE"
      },
      "outputs": [],
      "source": [
        "train_dataloader = DataLoader(small_train_dataset, shuffle=True, batch_size=10)\n",
        "eval_dataloader = DataLoader(small_eval_dataset, batch_size=10)"
      ]
    },
    {
      "cell_type": "code",
      "source": [
        "model = AutoModelForSequenceClassification.from_pretrained(\"bert-base-cased\", num_labels=2)\n",
        "\n",
        "\n",
        "num_epochs = 3\n",
        "optimizer = AdamW(model.parameters(), lr=5e-5)\n",
        "num_training_steps = num_epochs * len(train_dataloader)\n",
        "lr_scheduler = get_scheduler(\n",
        "    name=\"linear\", optimizer=optimizer, num_warmup_steps=0, num_training_steps=num_training_steps\n",
        ")\n",
        "\n",
        "device = torch.device(\"cuda\") if torch.cuda.is_available() else torch.device(\"cpu\")\n",
        "model.to(device)"
      ],
      "metadata": {
        "id": "5EHcoKwjgdN0"
      },
      "execution_count": null,
      "outputs": []
    },
    {
      "cell_type": "code",
      "source": [
        "progress_bar = tqdm(range(num_training_steps))\n",
        "\n",
        "model.train()\n",
        "for epoch in range(num_epochs):\n",
        "    for batch in train_dataloader:\n",
        "        batch = {k: v.to(device) for k, v in batch.items()}\n",
        "        outputs = model(**batch)\n",
        "        loss = outputs.loss\n",
        "        loss.backward()\n",
        "\n",
        "        optimizer.step()\n",
        "        lr_scheduler.step()\n",
        "        optimizer.zero_grad()\n",
        "        progress_bar.update(1)"
      ],
      "metadata": {
        "id": "U7zEK7z_gaLP"
      },
      "execution_count": null,
      "outputs": []
    },
    {
      "cell_type": "code",
      "source": [
        "import evaluate\n",
        "\n",
        "metric = evaluate.load(\"accuracy\")\n",
        "model.eval()\n",
        "for batch in eval_dataloader:\n",
        "    batch = {k: v.to(device) for k, v in batch.items()}\n",
        "    with torch.no_grad():\n",
        "        outputs = model(**batch)\n",
        "\n",
        "    logits = outputs.logits\n",
        "    predictions = torch.argmax(logits, dim=-1)\n",
        "    metric.add_batch(predictions=predictions, references=batch[\"labels\"])\n",
        "\n",
        "metric.compute()"
      ],
      "metadata": {
        "id": "sJ4SDTvMhIGq"
      },
      "execution_count": null,
      "outputs": []
    },
    {
      "cell_type": "markdown",
      "source": [
        "It seems that we do not have enough GPU space on colab to load and train the model, so we could not verify the performance of this model, but according to the state of the art BERT is a very powerful model (in theory more than those studied in this tp) for embedding sentences."
      ],
      "metadata": {
        "id": "otu7w9T1NTNA"
      }
    }
  ],
  "metadata": {
    "accelerator": "TPU",
    "colab": {
      "collapsed_sections": [],
      "provenance": []
    },
    "kernelspec": {
      "display_name": "Python 3",
      "language": "python",
      "name": "python3"
    },
    "language_info": {
      "codemirror_mode": {
        "name": "ipython",
        "version": 3
      },
      "file_extension": ".py",
      "mimetype": "text/x-python",
      "name": "python",
      "nbconvert_exporter": "python",
      "pygments_lexer": "ipython3",
      "version": "3.7.10"
    },
    "gpuClass": "standard"
  },
  "nbformat": 4,
  "nbformat_minor": 0
}